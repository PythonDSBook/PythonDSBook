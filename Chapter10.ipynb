{
  "nbformat": 4,
  "nbformat_minor": 0,
  "metadata": {
    "colab": {
      "provenance": [],
      "authorship_tag": "ABX9TyO7fco2gUn0MrU+MKi5VcBL",
      "include_colab_link": true
    },
    "kernelspec": {
      "name": "python3",
      "display_name": "Python 3"
    },
    "language_info": {
      "name": "python"
    }
  },
  "cells": [
    {
      "cell_type": "markdown",
      "metadata": {
        "id": "view-in-github",
        "colab_type": "text"
      },
      "source": [
        "<a href=\"https://colab.research.google.com/github/PythonDSBook/notebooks/blob/main/Chapter10.ipynb\" target=\"_parent\"><img src=\"https://colab.research.google.com/assets/colab-badge.svg\" alt=\"Open In Colab\"/></a>"
      ]
    },
    {
      "cell_type": "markdown",
      "source": [
        "# 第10章 線形回帰"
      ],
      "metadata": {
        "id": "tIftHGddPZYm"
      }
    },
    {
      "cell_type": "markdown",
      "source": [
        "## 10.8 プログラミング"
      ],
      "metadata": {
        "id": "ZCv9308qPeKz"
      }
    },
    {
      "cell_type": "markdown",
      "source": [
        "### コード 10.1 ライブラリのインポート"
      ],
      "metadata": {
        "id": "KKZD6IZ4Pxn8"
      }
    },
    {
      "cell_type": "code",
      "execution_count": 11,
      "metadata": {
        "id": "SuK3TOgh26rs"
      },
      "outputs": [],
      "source": [
        "import numpy as np\n",
        "import pandas as pd\n",
        "import matplotlib.pyplot as plt\n",
        "from sklearn.datasets import fetch_california_housing\n",
        "from sklearn.linear_model import LinearRegression\n",
        "from sklearn.metrics import mean_squared_error, r2_score\n",
        "from sklearn.preprocessing import StandardScaler\n",
        "from sklearn.model_selection import train_test_split"
      ]
    },
    {
      "cell_type": "markdown",
      "source": [
        "### コード 10.2 データフレームの作成"
      ],
      "metadata": {
        "id": "wvwtIcgfP6Dk"
      }
    },
    {
      "cell_type": "code",
      "source": [
        "california = fetch_california_housing()\n",
        "X = california.data\n",
        "y = california.target\n",
        "df = pd.DataFrame(data=X,\n",
        "                    columns=california.feature_names)"
      ],
      "metadata": {
        "id": "k_6CVBLs3Nxs"
      },
      "execution_count": 12,
      "outputs": []
    },
    {
      "cell_type": "code",
      "source": [
        "df"
      ],
      "metadata": {
        "colab": {
          "base_uri": "https://localhost:8080/",
          "height": 423
        },
        "id": "tOYXOvbp3Rxb",
        "outputId": "d4aa4b55-c8f8-4d9e-a3d2-d6aa76475b71"
      },
      "execution_count": null,
      "outputs": [
        {
          "output_type": "execute_result",
          "data": {
            "text/plain": [
              "       MedInc  HouseAge  AveRooms  AveBedrms  Population  AveOccup  Latitude  \\\n",
              "0      8.3252      41.0  6.984127   1.023810       322.0  2.555556     37.88   \n",
              "1      8.3014      21.0  6.238137   0.971880      2401.0  2.109842     37.86   \n",
              "2      7.2574      52.0  8.288136   1.073446       496.0  2.802260     37.85   \n",
              "3      5.6431      52.0  5.817352   1.073059       558.0  2.547945     37.85   \n",
              "4      3.8462      52.0  6.281853   1.081081       565.0  2.181467     37.85   \n",
              "...       ...       ...       ...        ...         ...       ...       ...   \n",
              "20635  1.5603      25.0  5.045455   1.133333       845.0  2.560606     39.48   \n",
              "20636  2.5568      18.0  6.114035   1.315789       356.0  3.122807     39.49   \n",
              "20637  1.7000      17.0  5.205543   1.120092      1007.0  2.325635     39.43   \n",
              "20638  1.8672      18.0  5.329513   1.171920       741.0  2.123209     39.43   \n",
              "20639  2.3886      16.0  5.254717   1.162264      1387.0  2.616981     39.37   \n",
              "\n",
              "       Longitude  \n",
              "0        -122.23  \n",
              "1        -122.22  \n",
              "2        -122.24  \n",
              "3        -122.25  \n",
              "4        -122.25  \n",
              "...          ...  \n",
              "20635    -121.09  \n",
              "20636    -121.21  \n",
              "20637    -121.22  \n",
              "20638    -121.32  \n",
              "20639    -121.24  \n",
              "\n",
              "[20640 rows x 8 columns]"
            ],
            "text/html": [
              "\n",
              "  <div id=\"df-312a0c63-0ae8-4528-b962-03abd0d76df0\" class=\"colab-df-container\">\n",
              "    <div>\n",
              "<style scoped>\n",
              "    .dataframe tbody tr th:only-of-type {\n",
              "        vertical-align: middle;\n",
              "    }\n",
              "\n",
              "    .dataframe tbody tr th {\n",
              "        vertical-align: top;\n",
              "    }\n",
              "\n",
              "    .dataframe thead th {\n",
              "        text-align: right;\n",
              "    }\n",
              "</style>\n",
              "<table border=\"1\" class=\"dataframe\">\n",
              "  <thead>\n",
              "    <tr style=\"text-align: right;\">\n",
              "      <th></th>\n",
              "      <th>MedInc</th>\n",
              "      <th>HouseAge</th>\n",
              "      <th>AveRooms</th>\n",
              "      <th>AveBedrms</th>\n",
              "      <th>Population</th>\n",
              "      <th>AveOccup</th>\n",
              "      <th>Latitude</th>\n",
              "      <th>Longitude</th>\n",
              "    </tr>\n",
              "  </thead>\n",
              "  <tbody>\n",
              "    <tr>\n",
              "      <th>0</th>\n",
              "      <td>8.3252</td>\n",
              "      <td>41.0</td>\n",
              "      <td>6.984127</td>\n",
              "      <td>1.023810</td>\n",
              "      <td>322.0</td>\n",
              "      <td>2.555556</td>\n",
              "      <td>37.88</td>\n",
              "      <td>-122.23</td>\n",
              "    </tr>\n",
              "    <tr>\n",
              "      <th>1</th>\n",
              "      <td>8.3014</td>\n",
              "      <td>21.0</td>\n",
              "      <td>6.238137</td>\n",
              "      <td>0.971880</td>\n",
              "      <td>2401.0</td>\n",
              "      <td>2.109842</td>\n",
              "      <td>37.86</td>\n",
              "      <td>-122.22</td>\n",
              "    </tr>\n",
              "    <tr>\n",
              "      <th>2</th>\n",
              "      <td>7.2574</td>\n",
              "      <td>52.0</td>\n",
              "      <td>8.288136</td>\n",
              "      <td>1.073446</td>\n",
              "      <td>496.0</td>\n",
              "      <td>2.802260</td>\n",
              "      <td>37.85</td>\n",
              "      <td>-122.24</td>\n",
              "    </tr>\n",
              "    <tr>\n",
              "      <th>3</th>\n",
              "      <td>5.6431</td>\n",
              "      <td>52.0</td>\n",
              "      <td>5.817352</td>\n",
              "      <td>1.073059</td>\n",
              "      <td>558.0</td>\n",
              "      <td>2.547945</td>\n",
              "      <td>37.85</td>\n",
              "      <td>-122.25</td>\n",
              "    </tr>\n",
              "    <tr>\n",
              "      <th>4</th>\n",
              "      <td>3.8462</td>\n",
              "      <td>52.0</td>\n",
              "      <td>6.281853</td>\n",
              "      <td>1.081081</td>\n",
              "      <td>565.0</td>\n",
              "      <td>2.181467</td>\n",
              "      <td>37.85</td>\n",
              "      <td>-122.25</td>\n",
              "    </tr>\n",
              "    <tr>\n",
              "      <th>...</th>\n",
              "      <td>...</td>\n",
              "      <td>...</td>\n",
              "      <td>...</td>\n",
              "      <td>...</td>\n",
              "      <td>...</td>\n",
              "      <td>...</td>\n",
              "      <td>...</td>\n",
              "      <td>...</td>\n",
              "    </tr>\n",
              "    <tr>\n",
              "      <th>20635</th>\n",
              "      <td>1.5603</td>\n",
              "      <td>25.0</td>\n",
              "      <td>5.045455</td>\n",
              "      <td>1.133333</td>\n",
              "      <td>845.0</td>\n",
              "      <td>2.560606</td>\n",
              "      <td>39.48</td>\n",
              "      <td>-121.09</td>\n",
              "    </tr>\n",
              "    <tr>\n",
              "      <th>20636</th>\n",
              "      <td>2.5568</td>\n",
              "      <td>18.0</td>\n",
              "      <td>6.114035</td>\n",
              "      <td>1.315789</td>\n",
              "      <td>356.0</td>\n",
              "      <td>3.122807</td>\n",
              "      <td>39.49</td>\n",
              "      <td>-121.21</td>\n",
              "    </tr>\n",
              "    <tr>\n",
              "      <th>20637</th>\n",
              "      <td>1.7000</td>\n",
              "      <td>17.0</td>\n",
              "      <td>5.205543</td>\n",
              "      <td>1.120092</td>\n",
              "      <td>1007.0</td>\n",
              "      <td>2.325635</td>\n",
              "      <td>39.43</td>\n",
              "      <td>-121.22</td>\n",
              "    </tr>\n",
              "    <tr>\n",
              "      <th>20638</th>\n",
              "      <td>1.8672</td>\n",
              "      <td>18.0</td>\n",
              "      <td>5.329513</td>\n",
              "      <td>1.171920</td>\n",
              "      <td>741.0</td>\n",
              "      <td>2.123209</td>\n",
              "      <td>39.43</td>\n",
              "      <td>-121.32</td>\n",
              "    </tr>\n",
              "    <tr>\n",
              "      <th>20639</th>\n",
              "      <td>2.3886</td>\n",
              "      <td>16.0</td>\n",
              "      <td>5.254717</td>\n",
              "      <td>1.162264</td>\n",
              "      <td>1387.0</td>\n",
              "      <td>2.616981</td>\n",
              "      <td>39.37</td>\n",
              "      <td>-121.24</td>\n",
              "    </tr>\n",
              "  </tbody>\n",
              "</table>\n",
              "<p>20640 rows × 8 columns</p>\n",
              "</div>\n",
              "    <div class=\"colab-df-buttons\">\n",
              "\n",
              "  <div class=\"colab-df-container\">\n",
              "    <button class=\"colab-df-convert\" onclick=\"convertToInteractive('df-312a0c63-0ae8-4528-b962-03abd0d76df0')\"\n",
              "            title=\"Convert this dataframe to an interactive table.\"\n",
              "            style=\"display:none;\">\n",
              "\n",
              "  <svg xmlns=\"http://www.w3.org/2000/svg\" height=\"24px\" viewBox=\"0 -960 960 960\">\n",
              "    <path d=\"M120-120v-720h720v720H120Zm60-500h600v-160H180v160Zm220 220h160v-160H400v160Zm0 220h160v-160H400v160ZM180-400h160v-160H180v160Zm440 0h160v-160H620v160ZM180-180h160v-160H180v160Zm440 0h160v-160H620v160Z\"/>\n",
              "  </svg>\n",
              "    </button>\n",
              "\n",
              "  <style>\n",
              "    .colab-df-container {\n",
              "      display:flex;\n",
              "      gap: 12px;\n",
              "    }\n",
              "\n",
              "    .colab-df-convert {\n",
              "      background-color: #E8F0FE;\n",
              "      border: none;\n",
              "      border-radius: 50%;\n",
              "      cursor: pointer;\n",
              "      display: none;\n",
              "      fill: #1967D2;\n",
              "      height: 32px;\n",
              "      padding: 0 0 0 0;\n",
              "      width: 32px;\n",
              "    }\n",
              "\n",
              "    .colab-df-convert:hover {\n",
              "      background-color: #E2EBFA;\n",
              "      box-shadow: 0px 1px 2px rgba(60, 64, 67, 0.3), 0px 1px 3px 1px rgba(60, 64, 67, 0.15);\n",
              "      fill: #174EA6;\n",
              "    }\n",
              "\n",
              "    .colab-df-buttons div {\n",
              "      margin-bottom: 4px;\n",
              "    }\n",
              "\n",
              "    [theme=dark] .colab-df-convert {\n",
              "      background-color: #3B4455;\n",
              "      fill: #D2E3FC;\n",
              "    }\n",
              "\n",
              "    [theme=dark] .colab-df-convert:hover {\n",
              "      background-color: #434B5C;\n",
              "      box-shadow: 0px 1px 3px 1px rgba(0, 0, 0, 0.15);\n",
              "      filter: drop-shadow(0px 1px 2px rgba(0, 0, 0, 0.3));\n",
              "      fill: #FFFFFF;\n",
              "    }\n",
              "  </style>\n",
              "\n",
              "    <script>\n",
              "      const buttonEl =\n",
              "        document.querySelector('#df-312a0c63-0ae8-4528-b962-03abd0d76df0 button.colab-df-convert');\n",
              "      buttonEl.style.display =\n",
              "        google.colab.kernel.accessAllowed ? 'block' : 'none';\n",
              "\n",
              "      async function convertToInteractive(key) {\n",
              "        const element = document.querySelector('#df-312a0c63-0ae8-4528-b962-03abd0d76df0');\n",
              "        const dataTable =\n",
              "          await google.colab.kernel.invokeFunction('convertToInteractive',\n",
              "                                                    [key], {});\n",
              "        if (!dataTable) return;\n",
              "\n",
              "        const docLinkHtml = 'Like what you see? Visit the ' +\n",
              "          '<a target=\"_blank\" href=https://colab.research.google.com/notebooks/data_table.ipynb>data table notebook</a>'\n",
              "          + ' to learn more about interactive tables.';\n",
              "        element.innerHTML = '';\n",
              "        dataTable['output_type'] = 'display_data';\n",
              "        await google.colab.output.renderOutput(dataTable, element);\n",
              "        const docLink = document.createElement('div');\n",
              "        docLink.innerHTML = docLinkHtml;\n",
              "        element.appendChild(docLink);\n",
              "      }\n",
              "    </script>\n",
              "  </div>\n",
              "\n",
              "\n",
              "<div id=\"df-a2e2b810-7b97-49b3-84d5-db9bd4cfe0d1\">\n",
              "  <button class=\"colab-df-quickchart\" onclick=\"quickchart('df-a2e2b810-7b97-49b3-84d5-db9bd4cfe0d1')\"\n",
              "            title=\"Suggest charts\"\n",
              "            style=\"display:none;\">\n",
              "\n",
              "<svg xmlns=\"http://www.w3.org/2000/svg\" height=\"24px\"viewBox=\"0 0 24 24\"\n",
              "     width=\"24px\">\n",
              "    <g>\n",
              "        <path d=\"M19 3H5c-1.1 0-2 .9-2 2v14c0 1.1.9 2 2 2h14c1.1 0 2-.9 2-2V5c0-1.1-.9-2-2-2zM9 17H7v-7h2v7zm4 0h-2V7h2v10zm4 0h-2v-4h2v4z\"/>\n",
              "    </g>\n",
              "</svg>\n",
              "  </button>\n",
              "\n",
              "<style>\n",
              "  .colab-df-quickchart {\n",
              "      --bg-color: #E8F0FE;\n",
              "      --fill-color: #1967D2;\n",
              "      --hover-bg-color: #E2EBFA;\n",
              "      --hover-fill-color: #174EA6;\n",
              "      --disabled-fill-color: #AAA;\n",
              "      --disabled-bg-color: #DDD;\n",
              "  }\n",
              "\n",
              "  [theme=dark] .colab-df-quickchart {\n",
              "      --bg-color: #3B4455;\n",
              "      --fill-color: #D2E3FC;\n",
              "      --hover-bg-color: #434B5C;\n",
              "      --hover-fill-color: #FFFFFF;\n",
              "      --disabled-bg-color: #3B4455;\n",
              "      --disabled-fill-color: #666;\n",
              "  }\n",
              "\n",
              "  .colab-df-quickchart {\n",
              "    background-color: var(--bg-color);\n",
              "    border: none;\n",
              "    border-radius: 50%;\n",
              "    cursor: pointer;\n",
              "    display: none;\n",
              "    fill: var(--fill-color);\n",
              "    height: 32px;\n",
              "    padding: 0;\n",
              "    width: 32px;\n",
              "  }\n",
              "\n",
              "  .colab-df-quickchart:hover {\n",
              "    background-color: var(--hover-bg-color);\n",
              "    box-shadow: 0 1px 2px rgba(60, 64, 67, 0.3), 0 1px 3px 1px rgba(60, 64, 67, 0.15);\n",
              "    fill: var(--button-hover-fill-color);\n",
              "  }\n",
              "\n",
              "  .colab-df-quickchart-complete:disabled,\n",
              "  .colab-df-quickchart-complete:disabled:hover {\n",
              "    background-color: var(--disabled-bg-color);\n",
              "    fill: var(--disabled-fill-color);\n",
              "    box-shadow: none;\n",
              "  }\n",
              "\n",
              "  .colab-df-spinner {\n",
              "    border: 2px solid var(--fill-color);\n",
              "    border-color: transparent;\n",
              "    border-bottom-color: var(--fill-color);\n",
              "    animation:\n",
              "      spin 1s steps(1) infinite;\n",
              "  }\n",
              "\n",
              "  @keyframes spin {\n",
              "    0% {\n",
              "      border-color: transparent;\n",
              "      border-bottom-color: var(--fill-color);\n",
              "      border-left-color: var(--fill-color);\n",
              "    }\n",
              "    20% {\n",
              "      border-color: transparent;\n",
              "      border-left-color: var(--fill-color);\n",
              "      border-top-color: var(--fill-color);\n",
              "    }\n",
              "    30% {\n",
              "      border-color: transparent;\n",
              "      border-left-color: var(--fill-color);\n",
              "      border-top-color: var(--fill-color);\n",
              "      border-right-color: var(--fill-color);\n",
              "    }\n",
              "    40% {\n",
              "      border-color: transparent;\n",
              "      border-right-color: var(--fill-color);\n",
              "      border-top-color: var(--fill-color);\n",
              "    }\n",
              "    60% {\n",
              "      border-color: transparent;\n",
              "      border-right-color: var(--fill-color);\n",
              "    }\n",
              "    80% {\n",
              "      border-color: transparent;\n",
              "      border-right-color: var(--fill-color);\n",
              "      border-bottom-color: var(--fill-color);\n",
              "    }\n",
              "    90% {\n",
              "      border-color: transparent;\n",
              "      border-bottom-color: var(--fill-color);\n",
              "    }\n",
              "  }\n",
              "</style>\n",
              "\n",
              "  <script>\n",
              "    async function quickchart(key) {\n",
              "      const quickchartButtonEl =\n",
              "        document.querySelector('#' + key + ' button');\n",
              "      quickchartButtonEl.disabled = true;  // To prevent multiple clicks.\n",
              "      quickchartButtonEl.classList.add('colab-df-spinner');\n",
              "      try {\n",
              "        const charts = await google.colab.kernel.invokeFunction(\n",
              "            'suggestCharts', [key], {});\n",
              "      } catch (error) {\n",
              "        console.error('Error during call to suggestCharts:', error);\n",
              "      }\n",
              "      quickchartButtonEl.classList.remove('colab-df-spinner');\n",
              "      quickchartButtonEl.classList.add('colab-df-quickchart-complete');\n",
              "    }\n",
              "    (() => {\n",
              "      let quickchartButtonEl =\n",
              "        document.querySelector('#df-a2e2b810-7b97-49b3-84d5-db9bd4cfe0d1 button');\n",
              "      quickchartButtonEl.style.display =\n",
              "        google.colab.kernel.accessAllowed ? 'block' : 'none';\n",
              "    })();\n",
              "  </script>\n",
              "</div>\n",
              "    </div>\n",
              "  </div>\n"
            ],
            "application/vnd.google.colaboratory.intrinsic+json": {
              "type": "dataframe",
              "variable_name": "df",
              "summary": "{\n  \"name\": \"df\",\n  \"rows\": 20640,\n  \"fields\": [\n    {\n      \"column\": \"MedInc\",\n      \"properties\": {\n        \"dtype\": \"number\",\n        \"std\": 1.8998217179452688,\n        \"min\": 0.4999,\n        \"max\": 15.0001,\n        \"num_unique_values\": 12928,\n        \"samples\": [\n          5.0286,\n          2.0433,\n          6.1228\n        ],\n        \"semantic_type\": \"\",\n        \"description\": \"\"\n      }\n    },\n    {\n      \"column\": \"HouseAge\",\n      \"properties\": {\n        \"dtype\": \"number\",\n        \"std\": 12.58555761211165,\n        \"min\": 1.0,\n        \"max\": 52.0,\n        \"num_unique_values\": 52,\n        \"samples\": [\n          35.0,\n          25.0,\n          7.0\n        ],\n        \"semantic_type\": \"\",\n        \"description\": \"\"\n      }\n    },\n    {\n      \"column\": \"AveRooms\",\n      \"properties\": {\n        \"dtype\": \"number\",\n        \"std\": 2.4741731394243187,\n        \"min\": 0.8461538461538461,\n        \"max\": 141.9090909090909,\n        \"num_unique_values\": 19392,\n        \"samples\": [\n          6.111269614835948,\n          5.912820512820513,\n          5.7924528301886795\n        ],\n        \"semantic_type\": \"\",\n        \"description\": \"\"\n      }\n    },\n    {\n      \"column\": \"AveBedrms\",\n      \"properties\": {\n        \"dtype\": \"number\",\n        \"std\": 0.473910856795466,\n        \"min\": 0.3333333333333333,\n        \"max\": 34.06666666666667,\n        \"num_unique_values\": 14233,\n        \"samples\": [\n          0.9906542056074766,\n          1.112099644128114,\n          1.0398230088495575\n        ],\n        \"semantic_type\": \"\",\n        \"description\": \"\"\n      }\n    },\n    {\n      \"column\": \"Population\",\n      \"properties\": {\n        \"dtype\": \"number\",\n        \"std\": 1132.462121765341,\n        \"min\": 3.0,\n        \"max\": 35682.0,\n        \"num_unique_values\": 3888,\n        \"samples\": [\n          4169.0,\n          636.0,\n          3367.0\n        ],\n        \"semantic_type\": \"\",\n        \"description\": \"\"\n      }\n    },\n    {\n      \"column\": \"AveOccup\",\n      \"properties\": {\n        \"dtype\": \"number\",\n        \"std\": 10.386049562213618,\n        \"min\": 0.6923076923076923,\n        \"max\": 1243.3333333333333,\n        \"num_unique_values\": 18841,\n        \"samples\": [\n          2.6939799331103678,\n          3.559375,\n          3.297082228116711\n        ],\n        \"semantic_type\": \"\",\n        \"description\": \"\"\n      }\n    },\n    {\n      \"column\": \"Latitude\",\n      \"properties\": {\n        \"dtype\": \"number\",\n        \"std\": 2.1359523974571153,\n        \"min\": 32.54,\n        \"max\": 41.95,\n        \"num_unique_values\": 862,\n        \"samples\": [\n          33.7,\n          34.41,\n          38.24\n        ],\n        \"semantic_type\": \"\",\n        \"description\": \"\"\n      }\n    },\n    {\n      \"column\": \"Longitude\",\n      \"properties\": {\n        \"dtype\": \"number\",\n        \"std\": 2.0035317235025882,\n        \"min\": -124.35,\n        \"max\": -114.31,\n        \"num_unique_values\": 844,\n        \"samples\": [\n          -118.63,\n          -119.86,\n          -121.26\n        ],\n        \"semantic_type\": \"\",\n        \"description\": \"\"\n      }\n    }\n  ]\n}"
            }
          },
          "metadata": {},
          "execution_count": 3
        }
      ]
    },
    {
      "cell_type": "markdown",
      "source": [
        "### コード 10.3 訓練データとテストデータ"
      ],
      "metadata": {
        "id": "YdUYDC8YP_DS"
      }
    },
    {
      "cell_type": "code",
      "source": [
        "X_train, X_test, y_train, y_test = train_test_split(\n",
        "    X, y, test_size=0.2, random_state=10\n",
        ")"
      ],
      "metadata": {
        "id": "cfVNIQIvV0I8"
      },
      "execution_count": 13,
      "outputs": []
    },
    {
      "cell_type": "code",
      "source": [
        "X_train, X_test, y_train, y_test = train_test_split(X, y, test_size=0.2, random_state=10)"
      ],
      "metadata": {
        "id": "b8TM-Bdk3TXC"
      },
      "execution_count": null,
      "outputs": []
    },
    {
      "cell_type": "markdown",
      "source": [
        "### コード 10.4 特徴の標準化"
      ],
      "metadata": {
        "id": "8PYFzZ-iQGCR"
      }
    },
    {
      "cell_type": "code",
      "source": [
        "scaler = StandardScaler()\n",
        "X_train = scaler.fit_transform(X_train)\n",
        "X_test = scaler.transform(X_test)"
      ],
      "metadata": {
        "id": "5ojuCDVQ3cEg"
      },
      "execution_count": 14,
      "outputs": []
    },
    {
      "cell_type": "markdown",
      "source": [
        "### プログラム 10.1 関数`gradient_descent_simple`"
      ],
      "metadata": {
        "id": "Hvs7pRW2QPVc"
      }
    },
    {
      "cell_type": "code",
      "source": [
        "def gradient_descent_simple(X, y, eta, n_iter):\n",
        "  m = len(X)\n",
        "  w, b = 0.0, 0.0\n",
        "  history = []\n",
        "\n",
        "  for _ in range(n_iter):\n",
        "    y_pred = w * X + b\n",
        "    error = y_pred - y\n",
        "    w = w - eta * (1 / m) * np.sum(X * error)\n",
        "    b = b - eta * (1 / m) * np.sum(error)\n",
        "    cost = (1 / m) * np.sum(error ** 2)\n",
        "    history.append(cost)\n",
        "\n",
        "  return w, b, history"
      ],
      "metadata": {
        "id": "YKVdv3KH3ENx"
      },
      "execution_count": 15,
      "outputs": []
    },
    {
      "cell_type": "markdown",
      "source": [
        "### コード 10.5 関数`gradient_descent_simple`の実行"
      ],
      "metadata": {
        "id": "mRMqloKaQc1L"
      }
    },
    {
      "cell_type": "code",
      "source": [
        "eta = 0.1\n",
        "n_iter = 100\n",
        "feature = 0\n",
        "w, b, history = gradient_descent_simple(\n",
        "    X_train[:, feature], y_train, eta, n_iter\n",
        ")\n",
        "print(f'cost: {history[-1]:.4f}')\n",
        "print(f'w: {w:.3f}, b: {b:.3f}')"
      ],
      "metadata": {
        "colab": {
          "base_uri": "https://localhost:8080/"
        },
        "id": "aDDCUjPX3d6H",
        "outputId": "75c01c41-a717-44d3-bc10-493254d07df1"
      },
      "execution_count": 16,
      "outputs": [
        {
          "output_type": "stream",
          "name": "stdout",
          "text": [
            "cost: 0.6980\n",
            "w: 0.791, b: 2.065\n"
          ]
        }
      ]
    },
    {
      "cell_type": "code",
      "source": [
        "eta = 0.1\n",
        "n_iter = 100\n",
        "feature = 0\n",
        "w, b, history = gradient_descent_simple(X_train[:, feature], y_train, eta, n_iter)\n",
        "print(f'cost: {history[-1]:.4f}')\n",
        "print(f'w: {w:.3f}, b: {b:.3f}')"
      ],
      "metadata": {
        "colab": {
          "base_uri": "https://localhost:8080/"
        },
        "id": "V8whQkvVXTOM",
        "outputId": "4ebdfad0-83f2-47a3-947f-ee7a90e8f4d5"
      },
      "execution_count": null,
      "outputs": [
        {
          "output_type": "stream",
          "name": "stdout",
          "text": [
            "cost: 0.6980\n",
            "w: 0.791, b: 2.065\n"
          ]
        }
      ]
    },
    {
      "cell_type": "markdown",
      "source": [
        "### 図 10.6"
      ],
      "metadata": {
        "id": "VmIRQGmKZrLx"
      }
    },
    {
      "cell_type": "code",
      "source": [
        "X_plot = np.linspace(X_train[:, 0].min(), X_train[:, 0].max(), 100)\n",
        "plt.scatter(X_train[:, 0], y_train, color='black', s=0.5)\n",
        "plt.scatter(X_test[:, 0], y_test, color='gray', s=0.5)\n",
        "plt.plot(X_plot, w * X_plot + b, color='red', lw=1)\n",
        "plt.xlabel('x')\n",
        "plt.ylabel('y')\n",
        "plt.grid()\n",
        "plt.show()"
      ],
      "metadata": {
        "colab": {
          "base_uri": "https://localhost:8080/",
          "height": 452
        },
        "id": "aQ6m1s6dZugd",
        "outputId": "e499881e-56d5-4a97-b6b6-be81e19014c4"
      },
      "execution_count": 17,
      "outputs": [
        {
          "output_type": "display_data",
          "data": {
            "text/plain": [
              "<Figure size 640x480 with 1 Axes>"
            ],
            "image/png": "[encoded data removed]"
          },
          "metadata": {}
        }
      ]
    },
    {
      "cell_type": "markdown",
      "source": [
        "### コード 10.6 決定係数の計算"
      ],
      "metadata": {
        "id": "3DAgUAdCQl8N"
      }
    },
    {
      "cell_type": "code",
      "source": [
        "y_train_pred = X_train[:, feature] * w + b\n",
        "y_test_pred = X_test[:, feature] * w + b\n",
        "r2_train = r2_score(y_train, y_train_pred)\n",
        "r2_test = r2_score(y_test, y_test_pred)\n",
        "print(f'train r2: {r2_train:.4f}, test r2: {r2_test:.4f}')"
      ],
      "metadata": {
        "colab": {
          "base_uri": "https://localhost:8080/"
        },
        "id": "vLL5kXw73gPt",
        "outputId": "c377718d-8e76-464e-c628-79d81614314b"
      },
      "execution_count": 18,
      "outputs": [
        {
          "output_type": "stream",
          "name": "stdout",
          "text": [
            "train r2: 0.4725, test r2: 0.4770\n"
          ]
        }
      ]
    },
    {
      "cell_type": "markdown",
      "source": [
        "### プログラム 10.2 関数`gradient_descent`"
      ],
      "metadata": {
        "id": "CSy_NvbfQyKk"
      }
    },
    {
      "cell_type": "code",
      "source": [
        "def gradient_descent(X, y, eta, n_iter):\n",
        "  m = X.shape[0]\n",
        "  w = np.zeros(X.shape[1])\n",
        "  history = []\n",
        "\n",
        "  for _ in range(n_iter):\n",
        "    y_pred = np.dot(X, w)\n",
        "    error = y_pred - y\n",
        "    w = w - eta * (1 / m) * np.dot(X.T, error)\n",
        "    cost = (1 / m) * np.sum(error ** 2)\n",
        "    history.append(cost)\n",
        "\n",
        "  return w, history"
      ],
      "metadata": {
        "id": "9mQkbglA3kT8"
      },
      "execution_count": 19,
      "outputs": []
    },
    {
      "cell_type": "markdown",
      "source": [
        "### コード 10.7 列の追加"
      ],
      "metadata": {
        "id": "mhQghxqyQ59Z"
      }
    },
    {
      "cell_type": "code",
      "source": [
        "X_train = np.insert(X_train, 0, 1, axis=1)\n",
        "X_test = np.insert(X_test, 0, 1, axis=1)"
      ],
      "metadata": {
        "id": "QV9gOtHs3nLX"
      },
      "execution_count": 20,
      "outputs": []
    },
    {
      "cell_type": "markdown",
      "source": [
        "### コード 10.8 関数`gradient_descent`の実行"
      ],
      "metadata": {
        "id": "BX9JJdVrQ-_l"
      }
    },
    {
      "cell_type": "code",
      "source": [
        "eta = 0.1\n",
        "n_iter = 5000\n",
        "w, history = gradient_descent(\n",
        "  X_train, y_train, eta, n_iter\n",
        ")\n",
        "print(f'cost: {history[-1]:.4f}')\n",
        "print('w: ', np.round(w, 3))"
      ],
      "metadata": {
        "colab": {
          "base_uri": "https://localhost:8080/"
        },
        "id": "vi3lb5I83pxS",
        "outputId": "6ef206b4-ae6b-4b64-8980-07060237438e"
      },
      "execution_count": 21,
      "outputs": [
        {
          "output_type": "stream",
          "name": "stdout",
          "text": [
            "cost: 0.5195\n",
            "w:  [ 2.065  0.819  0.118 -0.26   0.308 -0.003 -0.031 -0.918 -0.886]\n"
          ]
        }
      ]
    },
    {
      "cell_type": "code",
      "source": [
        "eta = 0.1\n",
        "n_iter = 5000\n",
        "w, history = gradient_descent(X_train, y_train, eta, n_iter)\n",
        "print(f'cost: {history[-1]:.4f}')\n",
        "print('w: ', np.round(w, 3))"
      ],
      "metadata": {
        "colab": {
          "base_uri": "https://localhost:8080/"
        },
        "id": "0jrl0UqIZMQH",
        "outputId": "b0d95242-9150-4810-c026-ede85f5dcb6f"
      },
      "execution_count": 22,
      "outputs": [
        {
          "output_type": "stream",
          "name": "stdout",
          "text": [
            "cost: 0.5195\n",
            "w:  [ 2.065  0.819  0.118 -0.26   0.308 -0.003 -0.031 -0.918 -0.886]\n"
          ]
        }
      ]
    },
    {
      "cell_type": "markdown",
      "source": [
        "### コード 10.9 決定係数の計算"
      ],
      "metadata": {
        "id": "nssdmaS3RGL8"
      }
    },
    {
      "cell_type": "code",
      "source": [
        "y_train_pred = np.dot(X_train, w)\n",
        "y_test_pred = np.dot(X_test, w)\n",
        "r2_train = r2_score(y_train, y_train_pred)\n",
        "r2_test = r2_score(y_test, y_test_pred)\n",
        "print(f'train r2: {r2_train:.4f}, test r2: {r2_test:.4f}')"
      ],
      "metadata": {
        "colab": {
          "base_uri": "https://localhost:8080/"
        },
        "id": "nDhVXq3a3rqh",
        "outputId": "53a0c1ea-3b55-4d26-e70d-99a3035e559f"
      },
      "execution_count": 23,
      "outputs": [
        {
          "output_type": "stream",
          "name": "stdout",
          "text": [
            "train r2: 0.6074, test r2: 0.6010\n"
          ]
        }
      ]
    },
    {
      "cell_type": "markdown",
      "source": [
        "### コード 10.10 正規方程式"
      ],
      "metadata": {
        "id": "eERS_lhXRMG5"
      }
    },
    {
      "cell_type": "code",
      "source": [
        "def normal_equation(X, y):\n",
        "  w = np.linalg.inv(X.T @ X) @ X.T @ y\n",
        "  return w"
      ],
      "metadata": {
        "id": "ulXiBXyo3vK4"
      },
      "execution_count": 24,
      "outputs": []
    },
    {
      "cell_type": "code",
      "source": [
        "w = normal_equation(X_train, y_train)\n",
        "print('w: ', np.round(w, 3))"
      ],
      "metadata": {
        "colab": {
          "base_uri": "https://localhost:8080/"
        },
        "id": "GIOLVXnw6Ecz",
        "outputId": "13d8618d-bac9-4593-86ff-2dab8ed58253"
      },
      "execution_count": 25,
      "outputs": [
        {
          "output_type": "stream",
          "name": "stdout",
          "text": [
            "w:  [ 2.065  0.819  0.118 -0.26   0.308 -0.003 -0.031 -0.918 -0.886]\n"
          ]
        }
      ]
    },
    {
      "cell_type": "markdown",
      "source": [
        "### コード 10.11 scikit-learnの`LinearRegression`クラスによる線形回帰"
      ],
      "metadata": {
        "id": "FpNc7e9eRUVr"
      }
    },
    {
      "cell_type": "code",
      "source": [
        "X = california.data\n",
        "y = california.target\n",
        "\n",
        "X_train, X_test, y_train, y_test = train_test_split(X, y, test_size=0.2, random_state=10)\n",
        "\n",
        "scaler = StandardScaler()\n",
        "X_train = scaler.fit_transform(X_train)\n",
        "X_test = scaler.transform(X_test)\n",
        "\n",
        "model = LinearRegression()\n",
        "model.fit(X_train, y_train)\n",
        "print(f'intercept: {model.intercept_:.3f}')\n",
        "print('coef: ', np.round(model.coef_, 3))\n",
        "\n",
        "y_pred = model.predict(X_test)\n",
        "loss = mean_squared_error(y_test, y_pred)\n",
        "r2 = r2_score(y_test, y_pred)\n",
        "print(f'mean_squared_error: {loss:.4f}')\n",
        "print(f'r2_score: {r2:.4f}')"
      ],
      "metadata": {
        "colab": {
          "base_uri": "https://localhost:8080/"
        },
        "id": "qY3CWk-I3xmu",
        "outputId": "31d112a4-8dee-4f40-8e11-af4923abe4e1"
      },
      "execution_count": 26,
      "outputs": [
        {
          "output_type": "stream",
          "name": "stdout",
          "text": [
            "intercept: 2.065\n",
            "coef:  [ 0.819  0.118 -0.26   0.308 -0.003 -0.031 -0.918 -0.886]\n",
            "mean_squared_error: 0.5445\n",
            "r2_score: 0.6010\n"
          ]
        }
      ]
    }
  ]
}