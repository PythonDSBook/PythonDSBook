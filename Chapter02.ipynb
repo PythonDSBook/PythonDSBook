{
  "nbformat": 4,
  "nbformat_minor": 0,
  "metadata": {
    "colab": {
      "provenance": [],
      "authorship_tag": "ABX9TyPJJL6W7a6lZe/Ww/etjzdG",
      "include_colab_link": true
    },
    "kernelspec": {
      "name": "python3",
      "display_name": "Python 3"
    },
    "language_info": {
      "name": "python"
    }
  },
  "cells": [
    {
      "cell_type": "markdown",
      "metadata": {
        "id": "view-in-github",
        "colab_type": "text"
      },
      "source": [
        "<a href=\"https://colab.research.google.com/github/PythonDSBook/notebooks/blob/main/Chapter02.ipynb\" target=\"_parent\"><img src=\"https://colab.research.google.com/assets/colab-badge.svg\" alt=\"Open In Colab\"/></a>"
      ]
    },
    {
      "cell_type": "markdown",
      "source": [
        "# 第2章 Pythonの基礎"
      ],
      "metadata": {
        "id": "LgH3Q733ERgh"
      }
    },
    {
      "cell_type": "markdown",
      "source": [
        "## 2.2 算術演算"
      ],
      "metadata": {
        "id": "t9qy1-EwFBL5"
      }
    },
    {
      "cell_type": "markdown",
      "source": [
        "### コード 2.1 足し算\n"
      ],
      "metadata": {
        "id": "fW7MH2Re_ES9"
      }
    },
    {
      "cell_type": "code",
      "execution_count": null,
      "metadata": {
        "colab": {
          "base_uri": "https://localhost:8080/"
        },
        "id": "vRlZEG7pg1Kk",
        "outputId": "fa0c6102-985c-41b5-bfe8-ec5c57897a92"
      },
      "outputs": [
        {
          "output_type": "execute_result",
          "data": {
            "text/plain": [
              "8"
            ]
          },
          "metadata": {},
          "execution_count": 1
        }
      ],
      "source": [
        "5 + 3 # 5たす3"
      ]
    },
    {
      "cell_type": "markdown",
      "source": [
        "### コード 2.2 引き算"
      ],
      "metadata": {
        "id": "zcPHKJm1_zih"
      }
    },
    {
      "cell_type": "code",
      "source": [
        "8 - 4 # 8ひく4"
      ],
      "metadata": {
        "colab": {
          "base_uri": "https://localhost:8080/"
        },
        "id": "ZyhcymYqhV4E",
        "outputId": "6a3451b9-5597-4831-81c6-e3fb35798d98"
      },
      "execution_count": null,
      "outputs": [
        {
          "output_type": "execute_result",
          "data": {
            "text/plain": [
              "4"
            ]
          },
          "metadata": {},
          "execution_count": 2
        }
      ]
    },
    {
      "cell_type": "markdown",
      "source": [
        "### コード 2.3 掛け算"
      ],
      "metadata": {
        "id": "HDesKJUq_8tv"
      }
    },
    {
      "cell_type": "code",
      "source": [
        "4 * 6 # 4かける6"
      ],
      "metadata": {
        "colab": {
          "base_uri": "https://localhost:8080/"
        },
        "id": "YpgNdHRJhXk_",
        "outputId": "af95888f-2bc0-4a59-87ac-ea53d0f5f4d7"
      },
      "execution_count": null,
      "outputs": [
        {
          "output_type": "execute_result",
          "data": {
            "text/plain": [
              "24"
            ]
          },
          "metadata": {},
          "execution_count": 3
        }
      ]
    },
    {
      "cell_type": "markdown",
      "source": [
        "### コード 2.4 割り算"
      ],
      "metadata": {
        "id": "cmi_ZpPO__s-"
      }
    },
    {
      "cell_type": "code",
      "source": [
        "24 / 5 # 24わる5"
      ],
      "metadata": {
        "colab": {
          "base_uri": "https://localhost:8080/"
        },
        "id": "eRm0LF7EhZXQ",
        "outputId": "22b5a888-562d-43a1-83f9-fd7dcc876be5"
      },
      "execution_count": null,
      "outputs": [
        {
          "output_type": "execute_result",
          "data": {
            "text/plain": [
              "4.8"
            ]
          },
          "metadata": {},
          "execution_count": 4
        }
      ]
    },
    {
      "cell_type": "markdown",
      "source": [
        "### コード 2.5 整数除算"
      ],
      "metadata": {
        "id": "kqzOuhiHAC-K"
      }
    },
    {
      "cell_type": "code",
      "source": [
        "24 // 5 # 24わる5の商"
      ],
      "metadata": {
        "colab": {
          "base_uri": "https://localhost:8080/"
        },
        "id": "8-49c2H5hbDO",
        "outputId": "99b8bab1-24ee-4cc2-a138-6c9a2b26be06"
      },
      "execution_count": null,
      "outputs": [
        {
          "output_type": "execute_result",
          "data": {
            "text/plain": [
              "4"
            ]
          },
          "metadata": {},
          "execution_count": 5
        }
      ]
    },
    {
      "cell_type": "markdown",
      "source": [
        "### コード 2.6 整数除算の余り"
      ],
      "metadata": {
        "id": "v0ltcBWMAg3i"
      }
    },
    {
      "cell_type": "code",
      "source": [
        "24 % 5 # 24わる5の余り"
      ],
      "metadata": {
        "colab": {
          "base_uri": "https://localhost:8080/"
        },
        "id": "b-TFNXU7hc2-",
        "outputId": "8ee7333f-e21f-4f07-8144-e6ff560f7460"
      },
      "execution_count": null,
      "outputs": [
        {
          "output_type": "execute_result",
          "data": {
            "text/plain": [
              "4"
            ]
          },
          "metadata": {},
          "execution_count": 6
        }
      ]
    },
    {
      "cell_type": "markdown",
      "source": [
        "### コード 2.7 べき乗"
      ],
      "metadata": {
        "id": "MOkcxZGhArQ-"
      }
    },
    {
      "cell_type": "code",
      "source": [
        "2 ** 10 # 2の10乗"
      ],
      "metadata": {
        "colab": {
          "base_uri": "https://localhost:8080/"
        },
        "id": "vHmULi9xheyH",
        "outputId": "0646dd4e-4e5b-42cc-8cde-ecf58344b4e0"
      },
      "execution_count": null,
      "outputs": [
        {
          "output_type": "execute_result",
          "data": {
            "text/plain": [
              "1024"
            ]
          },
          "metadata": {},
          "execution_count": 7
        }
      ]
    },
    {
      "cell_type": "markdown",
      "source": [
        "### コード 2.8 整数同士の演算"
      ],
      "metadata": {
        "id": "v9I4o7S6FZzN"
      }
    },
    {
      "cell_type": "code",
      "source": [
        "1 + 1"
      ],
      "metadata": {
        "colab": {
          "base_uri": "https://localhost:8080/"
        },
        "id": "qKMn5vovhh_F",
        "outputId": "339719ad-99e2-48c8-9b86-7a92b4d1e1d6"
      },
      "execution_count": null,
      "outputs": [
        {
          "output_type": "execute_result",
          "data": {
            "text/plain": [
              "2"
            ]
          },
          "metadata": {},
          "execution_count": 8
        }
      ]
    },
    {
      "cell_type": "markdown",
      "source": [
        "### コード 2.9 整数と実数の演算"
      ],
      "metadata": {
        "id": "tZdbVrp-Fifi"
      }
    },
    {
      "cell_type": "code",
      "source": [
        "1 + 1.0"
      ],
      "metadata": {
        "colab": {
          "base_uri": "https://localhost:8080/"
        },
        "id": "jLg4jw8ohkQ0",
        "outputId": "76ff1983-6fa5-41aa-c323-289fcd103bf9"
      },
      "execution_count": null,
      "outputs": [
        {
          "output_type": "execute_result",
          "data": {
            "text/plain": [
              "2.0"
            ]
          },
          "metadata": {},
          "execution_count": 9
        }
      ]
    },
    {
      "cell_type": "markdown",
      "source": [
        "### コード 2.10 2つの値が等しいかを判定"
      ],
      "metadata": {
        "id": "Ta5M4sgKFv-N"
      }
    },
    {
      "cell_type": "code",
      "source": [
        "1 + 1 == 1 + 1.0"
      ],
      "metadata": {
        "colab": {
          "base_uri": "https://localhost:8080/"
        },
        "id": "zzxYTAGZhllr",
        "outputId": "f4e8e144-4f4e-4d7b-ca43-5a60beedda2e"
      },
      "execution_count": null,
      "outputs": [
        {
          "output_type": "execute_result",
          "data": {
            "text/plain": [
              "True"
            ]
          },
          "metadata": {},
          "execution_count": 10
        }
      ]
    },
    {
      "cell_type": "markdown",
      "source": [
        "### コード 2.11 2の100乗の計算"
      ],
      "metadata": {
        "id": "Oh-Y0AkpF6pm"
      }
    },
    {
      "cell_type": "code",
      "source": [
        "2 ** 100"
      ],
      "metadata": {
        "colab": {
          "base_uri": "https://localhost:8080/"
        },
        "id": "fPm-HkUShneE",
        "outputId": "d9dd45f8-67a1-4eb4-d1da-658519b14058"
      },
      "execution_count": null,
      "outputs": [
        {
          "output_type": "execute_result",
          "data": {
            "text/plain": [
              "1267650600228229401496703205376"
            ]
          },
          "metadata": {},
          "execution_count": 11
        }
      ]
    },
    {
      "cell_type": "markdown",
      "source": [
        "### コード 2.12 2の1000乗の計算"
      ],
      "metadata": {
        "id": "YF40_QaxGFJk"
      }
    },
    {
      "cell_type": "code",
      "source": [
        "2.0 ** 1000"
      ],
      "metadata": {
        "colab": {
          "base_uri": "https://localhost:8080/"
        },
        "id": "GKs1J3bkhpKT",
        "outputId": "57b6600b-d4c4-434e-d17c-784f2e4f7a0e"
      },
      "execution_count": null,
      "outputs": [
        {
          "output_type": "execute_result",
          "data": {
            "text/plain": [
              "1.0715086071862673e+301"
            ]
          },
          "metadata": {},
          "execution_count": 12
        }
      ]
    },
    {
      "cell_type": "markdown",
      "source": [
        "### コード 2.13 2の-1000乗の計算"
      ],
      "metadata": {
        "id": "WesSuQF2GOuJ"
      }
    },
    {
      "cell_type": "code",
      "source": [
        "2.0 ** -1000"
      ],
      "metadata": {
        "colab": {
          "base_uri": "https://localhost:8080/"
        },
        "id": "QbZPrmmrhsZS",
        "outputId": "b08d323b-0522-4746-d774-b4cd96a3eccd"
      },
      "execution_count": null,
      "outputs": [
        {
          "output_type": "execute_result",
          "data": {
            "text/plain": [
              "9.332636185032189e-302"
            ]
          },
          "metadata": {},
          "execution_count": 13
        }
      ]
    },
    {
      "cell_type": "markdown",
      "source": [
        "### コード 2.14 演算子の評価順序"
      ],
      "metadata": {
        "id": "ao4g434YGU7M"
      }
    },
    {
      "cell_type": "code",
      "source": [
        "4 - 3 * 2"
      ],
      "metadata": {
        "colab": {
          "base_uri": "https://localhost:8080/"
        },
        "id": "LFftcft5huPS",
        "outputId": "6c83f948-3ab8-4dcd-db7f-9c14976223b0"
      },
      "execution_count": null,
      "outputs": [
        {
          "output_type": "execute_result",
          "data": {
            "text/plain": [
              "-2"
            ]
          },
          "metadata": {},
          "execution_count": 14
        }
      ]
    },
    {
      "cell_type": "markdown",
      "source": [
        "### コード 2.15 丸括弧による演算子の評価順序の指定"
      ],
      "metadata": {
        "id": "yEvVPGfjGaOF"
      }
    },
    {
      "cell_type": "code",
      "source": [
        "(4 - 3) * 2"
      ],
      "metadata": {
        "colab": {
          "base_uri": "https://localhost:8080/"
        },
        "id": "gR75QGrghwZC",
        "outputId": "8958adfb-7925-40bb-dc5d-3f4d616d279a"
      },
      "execution_count": null,
      "outputs": [
        {
          "output_type": "execute_result",
          "data": {
            "text/plain": [
              "2"
            ]
          },
          "metadata": {},
          "execution_count": 15
        }
      ]
    },
    {
      "cell_type": "markdown",
      "source": [
        "### コード 2.16 単項演算子としての`+`"
      ],
      "metadata": {
        "id": "jJ5z-KazGjfI"
      }
    },
    {
      "cell_type": "code",
      "source": [
        "+1"
      ],
      "metadata": {
        "colab": {
          "base_uri": "https://localhost:8080/"
        },
        "id": "KpoNE7akhyWY",
        "outputId": "f5e0816f-bc6c-437f-d125-e165860c7eb4"
      },
      "execution_count": null,
      "outputs": [
        {
          "output_type": "execute_result",
          "data": {
            "text/plain": [
              "1"
            ]
          },
          "metadata": {},
          "execution_count": 16
        }
      ]
    },
    {
      "cell_type": "markdown",
      "source": [
        "### コード 2.17 単項演算子としての`-`"
      ],
      "metadata": {
        "id": "lWo2UySiGqUn"
      }
    },
    {
      "cell_type": "code",
      "source": [
        "-1"
      ],
      "metadata": {
        "colab": {
          "base_uri": "https://localhost:8080/"
        },
        "id": "4JBYT05fh5v-",
        "outputId": "0ae0704a-2841-44de-f522-102d30c2120c"
      },
      "execution_count": null,
      "outputs": [
        {
          "output_type": "execute_result",
          "data": {
            "text/plain": [
              "-1"
            ]
          },
          "metadata": {},
          "execution_count": 17
        }
      ]
    },
    {
      "cell_type": "markdown",
      "source": [
        "### コード 2.18 演算子の結合方向と評価順序"
      ],
      "metadata": {
        "id": "ccEdgWKXGw-h"
      }
    },
    {
      "cell_type": "code",
      "source": [
        "5 + 3 - 6 * 4 / 2 ** 3 ** 1"
      ],
      "metadata": {
        "colab": {
          "base_uri": "https://localhost:8080/"
        },
        "id": "WtEN_0gzh7bH",
        "outputId": "6043839f-051e-4ba9-ca17-e339d91eddef"
      },
      "execution_count": null,
      "outputs": [
        {
          "output_type": "execute_result",
          "data": {
            "text/plain": [
              "5.0"
            ]
          },
          "metadata": {},
          "execution_count": 18
        }
      ]
    },
    {
      "cell_type": "markdown",
      "source": [
        "## 2.3 変数"
      ],
      "metadata": {
        "id": "f16kj1M5G8vW"
      }
    },
    {
      "cell_type": "markdown",
      "source": [
        "### コード 2.19 変数定義"
      ],
      "metadata": {
        "id": "agPINm5cHEcN"
      }
    },
    {
      "cell_type": "code",
      "source": [
        "x = 5 + 3"
      ],
      "metadata": {
        "id": "xVA4OJTOh_AP"
      },
      "execution_count": null,
      "outputs": []
    },
    {
      "cell_type": "code",
      "source": [
        "x"
      ],
      "metadata": {
        "colab": {
          "base_uri": "https://localhost:8080/"
        },
        "id": "jbpSIRo7Vch4",
        "outputId": "d2d7dff9-b2de-44e4-f3b2-fc47b80b1668"
      },
      "execution_count": null,
      "outputs": [
        {
          "output_type": "execute_result",
          "data": {
            "text/plain": [
              "8"
            ]
          },
          "metadata": {},
          "execution_count": 20
        }
      ]
    },
    {
      "cell_type": "markdown",
      "source": [
        "### コード 2.20 変数の参照"
      ],
      "metadata": {
        "id": "6eZraf6AHU_k"
      }
    },
    {
      "cell_type": "code",
      "source": [
        "x + 1"
      ],
      "metadata": {
        "colab": {
          "base_uri": "https://localhost:8080/"
        },
        "id": "R5aNJ9KYiLvp",
        "outputId": "33948d4d-10f9-4b83-801d-b5604c3d50e6"
      },
      "execution_count": null,
      "outputs": [
        {
          "output_type": "execute_result",
          "data": {
            "text/plain": [
              "9"
            ]
          },
          "metadata": {},
          "execution_count": 21
        }
      ]
    },
    {
      "cell_type": "markdown",
      "source": [
        "### コード 2.21 変数の再定義と参照"
      ],
      "metadata": {
        "id": "CHDzGnv2HYZi"
      }
    },
    {
      "cell_type": "code",
      "source": [
        "x = 5\n",
        "x + 1"
      ],
      "metadata": {
        "colab": {
          "base_uri": "https://localhost:8080/"
        },
        "id": "Z7WNsr4MiOQZ",
        "outputId": "34d0109e-8a42-47b0-aaf7-0499e7a6bab7"
      },
      "execution_count": null,
      "outputs": [
        {
          "output_type": "execute_result",
          "data": {
            "text/plain": [
              "6"
            ]
          },
          "metadata": {},
          "execution_count": 22
        }
      ]
    },
    {
      "cell_type": "markdown",
      "source": [
        "### コード 2.22 代入文"
      ],
      "metadata": {
        "id": "bXD7fpdUHfsi"
      }
    },
    {
      "cell_type": "code",
      "source": [
        "x = 5\n",
        "x = 5 + 3\n",
        "x"
      ],
      "metadata": {
        "id": "MEKia8EXiQTn",
        "colab": {
          "base_uri": "https://localhost:8080/"
        },
        "outputId": "84b1a42c-3e9a-4be8-9d5d-7893347090a7"
      },
      "execution_count": null,
      "outputs": [
        {
          "output_type": "execute_result",
          "data": {
            "text/plain": [
              "8"
            ]
          },
          "metadata": {},
          "execution_count": 23
        }
      ]
    },
    {
      "cell_type": "markdown",
      "source": [
        "## 2.4 関数"
      ],
      "metadata": {
        "id": "t-pAVsICHlCb"
      }
    },
    {
      "cell_type": "markdown",
      "source": [
        "### コード 2.23 関数の定義"
      ],
      "metadata": {
        "id": "YnnqtM8NHnqS"
      }
    },
    {
      "cell_type": "code",
      "source": [
        "def addition(x, y):\n",
        "\t\treturn x + y"
      ],
      "metadata": {
        "id": "yS9Nz66YiSw3"
      },
      "execution_count": null,
      "outputs": []
    },
    {
      "cell_type": "code",
      "source": [
        "addition(5, 3)"
      ],
      "metadata": {
        "colab": {
          "base_uri": "https://localhost:8080/"
        },
        "id": "sgOtvuc7VPgt",
        "outputId": "149c799c-2869-4762-8ad4-b908654e3f3c"
      },
      "execution_count": null,
      "outputs": [
        {
          "output_type": "execute_result",
          "data": {
            "text/plain": [
              "8"
            ]
          },
          "metadata": {},
          "execution_count": 34
        }
      ]
    },
    {
      "cell_type": "markdown",
      "source": [
        "### コード 2.24 関数の呼び出し"
      ],
      "metadata": {
        "id": "lhBrmzEVHtY8"
      }
    },
    {
      "cell_type": "code",
      "source": [
        "2 * addition(2, 5 - 3)"
      ],
      "metadata": {
        "colab": {
          "base_uri": "https://localhost:8080/"
        },
        "id": "tYtEjAUriVGO",
        "outputId": "fce4242f-f47d-483a-a81c-7a9c22937469"
      },
      "execution_count": null,
      "outputs": [
        {
          "output_type": "execute_result",
          "data": {
            "text/plain": [
              "8"
            ]
          },
          "metadata": {},
          "execution_count": 25
        }
      ]
    },
    {
      "cell_type": "markdown",
      "source": [
        "### コード 2.25 ローカル変数"
      ],
      "metadata": {
        "id": "ugSYnA0PH6RJ"
      }
    },
    {
      "cell_type": "code",
      "source": [
        "def pythagorean(a, b):\n",
        "\t\tc = a ** 2 + b ** 2\n",
        "\t\treturn c ** 0.5"
      ],
      "metadata": {
        "id": "vNpLiHgaiX7Q"
      },
      "execution_count": null,
      "outputs": []
    },
    {
      "cell_type": "markdown",
      "source": [
        "### コード 2.26 組み込み関数`print`"
      ],
      "metadata": {
        "id": "Sxld0EJWIAKg"
      }
    },
    {
      "cell_type": "code",
      "source": [
        "x = 10\n",
        "y = 20\n",
        "print(x, y)"
      ],
      "metadata": {
        "colab": {
          "base_uri": "https://localhost:8080/"
        },
        "id": "n8s9mIhxibCt",
        "outputId": "26cf2e8f-687e-46ed-d56f-1af396191dc3"
      },
      "execution_count": null,
      "outputs": [
        {
          "output_type": "stream",
          "name": "stdout",
          "text": [
            "10 20\n"
          ]
        }
      ]
    },
    {
      "cell_type": "markdown",
      "source": [
        "### コード 2.27 出力する値の桁数の指定"
      ],
      "metadata": {
        "id": "S3xi8ZGEIE_5"
      }
    },
    {
      "cell_type": "code",
      "source": [
        "pi = 3.14159265\n",
        "print(f'{pi:.2f}')"
      ],
      "metadata": {
        "colab": {
          "base_uri": "https://localhost:8080/"
        },
        "id": "2y_KPdKqZ1ag",
        "outputId": "e789a58e-8c6b-495a-e736-cf94b116e7e1"
      },
      "execution_count": null,
      "outputs": [
        {
          "output_type": "stream",
          "name": "stdout",
          "text": [
            "3.14\n"
          ]
        }
      ]
    },
    {
      "cell_type": "markdown",
      "source": [
        "## 2.5 if文と条件分岐"
      ],
      "metadata": {
        "id": "GB7J3WXLIYub"
      }
    },
    {
      "cell_type": "markdown",
      "source": [
        "### コード 2.28 真理値"
      ],
      "metadata": {
        "id": "VEVfbx0iIjAL"
      }
    },
    {
      "cell_type": "code",
      "source": [
        "x = 10\n",
        "x > 0"
      ],
      "metadata": {
        "colab": {
          "base_uri": "https://localhost:8080/"
        },
        "id": "OXErQfXWidEE",
        "outputId": "e0d7cb31-3628-45dd-b0b8-b16669f0278a"
      },
      "execution_count": null,
      "outputs": [
        {
          "output_type": "execute_result",
          "data": {
            "text/plain": [
              "True"
            ]
          },
          "metadata": {},
          "execution_count": 29
        }
      ]
    },
    {
      "cell_type": "markdown",
      "source": [
        "### コード 2.29 比較演算子"
      ],
      "metadata": {
        "id": "w_kbdgynJNX_"
      }
    },
    {
      "cell_type": "code",
      "source": [
        "x = 20\n",
        "y = 10\n",
        "x == y"
      ],
      "metadata": {
        "colab": {
          "base_uri": "https://localhost:8080/"
        },
        "id": "y4IvTYnXifqF",
        "outputId": "566b8a24-966f-4950-b40e-c64911dc9d1b"
      },
      "execution_count": null,
      "outputs": [
        {
          "output_type": "execute_result",
          "data": {
            "text/plain": [
              "False"
            ]
          },
          "metadata": {},
          "execution_count": 30
        }
      ]
    },
    {
      "cell_type": "markdown",
      "source": [
        "### コード 2.30 比較演算子"
      ],
      "metadata": {
        "id": "9He9WCF6JRUY"
      }
    },
    {
      "cell_type": "code",
      "source": [
        "x >= y"
      ],
      "metadata": {
        "colab": {
          "base_uri": "https://localhost:8080/"
        },
        "id": "xmVL-qczii8r",
        "outputId": "e071a27f-854f-470d-da98-db3824629ad9"
      },
      "execution_count": null,
      "outputs": [
        {
          "output_type": "execute_result",
          "data": {
            "text/plain": [
              "True"
            ]
          },
          "metadata": {},
          "execution_count": 31
        }
      ]
    },
    {
      "cell_type": "markdown",
      "source": [
        "### コード 2.31 論理演算子"
      ],
      "metadata": {
        "id": "pWCWdIMUJWc3"
      }
    },
    {
      "cell_type": "code",
      "source": [
        "x = 30\n",
        "y = 20\n",
        "z = 10\n",
        "x > y and x > z"
      ],
      "metadata": {
        "colab": {
          "base_uri": "https://localhost:8080/"
        },
        "id": "6-JlZRrNimYy",
        "outputId": "cc531a31-d95f-4adf-f55b-8c73738b82b9"
      },
      "execution_count": null,
      "outputs": [
        {
          "output_type": "execute_result",
          "data": {
            "text/plain": [
              "True"
            ]
          },
          "metadata": {},
          "execution_count": 32
        }
      ]
    },
    {
      "cell_type": "markdown",
      "source": [
        "### コード 2.32 if文による条件分岐"
      ],
      "metadata": {
        "id": "apsvc3P4Jb1l"
      }
    },
    {
      "cell_type": "code",
      "source": [
        "def maximum(x, y, z):\n",
        "\t\tif x > y and x > z:\n",
        "\t\t\t\treturn x\n",
        "\t\telif y > z:\n",
        "\t\t\t\treturn y\n",
        "\t\telse:\n",
        "\t\t\t\treturn z"
      ],
      "metadata": {
        "id": "eNmOkDgbipWJ"
      },
      "execution_count": null,
      "outputs": []
    },
    {
      "cell_type": "code",
      "source": [
        "maximum(30, 20, 10)"
      ],
      "metadata": {
        "colab": {
          "base_uri": "https://localhost:8080/"
        },
        "id": "_jEj-jBAVVmC",
        "outputId": "d969d209-fe09-4143-9352-176dab646079"
      },
      "execution_count": null,
      "outputs": [
        {
          "output_type": "execute_result",
          "data": {
            "text/plain": [
              "30"
            ]
          },
          "metadata": {},
          "execution_count": 35
        }
      ]
    },
    {
      "cell_type": "markdown",
      "source": [
        "## 2.6 リスト"
      ],
      "metadata": {
        "id": "WU2dp805JhwC"
      }
    },
    {
      "cell_type": "markdown",
      "source": [
        "### コード 2.33 リストの作成"
      ],
      "metadata": {
        "id": "d9X1drMrLBbq"
      }
    },
    {
      "cell_type": "code",
      "source": [
        "digits = [0, 1, 2, 3, 4, 5, 6, 7, 8, 9]"
      ],
      "metadata": {
        "id": "5EyUIg64ivCv"
      },
      "execution_count": null,
      "outputs": []
    },
    {
      "cell_type": "markdown",
      "source": [
        "### コード 2.34 空リストの作成"
      ],
      "metadata": {
        "id": "mocOoZFwLEse"
      }
    },
    {
      "cell_type": "code",
      "source": [
        "empty_lst = []"
      ],
      "metadata": {
        "id": "FG3WjUPYi4j9"
      },
      "execution_count": null,
      "outputs": []
    },
    {
      "cell_type": "markdown",
      "source": [
        "### コード 2.35 リストの要素の検索"
      ],
      "metadata": {
        "id": "Iekf4vpCLJEp"
      }
    },
    {
      "cell_type": "code",
      "source": [
        "1 in digits"
      ],
      "metadata": {
        "colab": {
          "base_uri": "https://localhost:8080/"
        },
        "id": "3rzBU9m5i7tl",
        "outputId": "595524c9-9421-4b71-9b99-803894677876"
      },
      "execution_count": null,
      "outputs": [
        {
          "output_type": "execute_result",
          "data": {
            "text/plain": [
              "True"
            ]
          },
          "metadata": {},
          "execution_count": 38
        }
      ]
    },
    {
      "cell_type": "markdown",
      "source": [
        "### コード 2.36 リストのインデックス"
      ],
      "metadata": {
        "id": "fapd0v1VLRzx"
      }
    },
    {
      "cell_type": "code",
      "source": [
        "lst = [10, 20, 30, 40, 50]\n",
        "lst[1]"
      ],
      "metadata": {
        "colab": {
          "base_uri": "https://localhost:8080/"
        },
        "id": "53H4hUwUi8fT",
        "outputId": "2b83d7b6-88cb-4f20-cbf7-78474c47c807"
      },
      "execution_count": null,
      "outputs": [
        {
          "output_type": "execute_result",
          "data": {
            "text/plain": [
              "20"
            ]
          },
          "metadata": {},
          "execution_count": 39
        }
      ]
    },
    {
      "cell_type": "markdown",
      "source": [
        "### コード 2.37 リストの`index`メソッド"
      ],
      "metadata": {
        "id": "eDX3wFZ7Lajb"
      }
    },
    {
      "cell_type": "code",
      "source": [
        "lst.index(20)"
      ],
      "metadata": {
        "colab": {
          "base_uri": "https://localhost:8080/"
        },
        "id": "8Oex8nVfi-hz",
        "outputId": "6d257905-9a86-44f0-c67e-229644734082"
      },
      "execution_count": null,
      "outputs": [
        {
          "output_type": "execute_result",
          "data": {
            "text/plain": [
              "1"
            ]
          },
          "metadata": {},
          "execution_count": 40
        }
      ]
    },
    {
      "cell_type": "markdown",
      "source": [
        "### コード 2.38 リストのインデックスの負数"
      ],
      "metadata": {
        "id": "IjVvdDUdLoY9"
      }
    },
    {
      "cell_type": "code",
      "source": [
        "lst[-1]"
      ],
      "metadata": {
        "colab": {
          "base_uri": "https://localhost:8080/"
        },
        "id": "_49nVHWXjBL6",
        "outputId": "fbc48901-092f-4a85-c868-99665dd4ed36"
      },
      "execution_count": null,
      "outputs": [
        {
          "output_type": "execute_result",
          "data": {
            "text/plain": [
              "50"
            ]
          },
          "metadata": {},
          "execution_count": 41
        }
      ]
    },
    {
      "cell_type": "markdown",
      "source": [
        "### コード 2.39 式によるインデックスの指定"
      ],
      "metadata": {
        "id": "xTW5WXNrLtX0"
      }
    },
    {
      "cell_type": "code",
      "source": [
        "lst[1 + 1]"
      ],
      "metadata": {
        "colab": {
          "base_uri": "https://localhost:8080/"
        },
        "id": "lkoUpFeFjDCM",
        "outputId": "c3cb2368-70c0-46b6-be50-25cf289ff66f"
      },
      "execution_count": null,
      "outputs": [
        {
          "output_type": "execute_result",
          "data": {
            "text/plain": [
              "30"
            ]
          },
          "metadata": {},
          "execution_count": 42
        }
      ]
    },
    {
      "cell_type": "markdown",
      "source": [
        "### コード 2.40 リストの要素の数"
      ],
      "metadata": {
        "id": "sRZ0Hq0_LyYP"
      }
    },
    {
      "cell_type": "code",
      "source": [
        "len(lst)"
      ],
      "metadata": {
        "colab": {
          "base_uri": "https://localhost:8080/"
        },
        "id": "MZ414FIsjH5R",
        "outputId": "7c358613-1262-429d-d671-92fb61b3fc99"
      },
      "execution_count": null,
      "outputs": [
        {
          "output_type": "execute_result",
          "data": {
            "text/plain": [
              "5"
            ]
          },
          "metadata": {},
          "execution_count": 43
        }
      ]
    },
    {
      "cell_type": "markdown",
      "source": [
        "### コード 2.41 リストのスライス"
      ],
      "metadata": {
        "id": "JxgLfdWGL-PN"
      }
    },
    {
      "cell_type": "code",
      "source": [
        "lst[1:4]"
      ],
      "metadata": {
        "colab": {
          "base_uri": "https://localhost:8080/"
        },
        "id": "UHCDiPzljLMw",
        "outputId": "1ddde3ff-a02a-4f04-f933-89e99a6df564"
      },
      "execution_count": null,
      "outputs": [
        {
          "output_type": "execute_result",
          "data": {
            "text/plain": [
              "[20, 30, 40]"
            ]
          },
          "metadata": {},
          "execution_count": 44
        }
      ]
    },
    {
      "cell_type": "markdown",
      "source": [
        "### コード 2.42 リストの先頭要素からのスライス"
      ],
      "metadata": {
        "id": "z0IUGflNMDG3"
      }
    },
    {
      "cell_type": "code",
      "source": [
        "lst[:3]"
      ],
      "metadata": {
        "colab": {
          "base_uri": "https://localhost:8080/"
        },
        "id": "c2oHAIiWjOBv",
        "outputId": "036663f1-832d-4841-b2e8-251ffa2393cd"
      },
      "execution_count": null,
      "outputs": [
        {
          "output_type": "execute_result",
          "data": {
            "text/plain": [
              "[10, 20, 30]"
            ]
          },
          "metadata": {},
          "execution_count": 45
        }
      ]
    },
    {
      "cell_type": "markdown",
      "source": [
        "### コード 2.43 リストの終端要素までのスライス"
      ],
      "metadata": {
        "id": "YVpXohduMHmx"
      }
    },
    {
      "cell_type": "code",
      "source": [
        "lst[3:]"
      ],
      "metadata": {
        "colab": {
          "base_uri": "https://localhost:8080/"
        },
        "id": "OccPjEph0G8M",
        "outputId": "8c4a13a6-ec43-4294-e0c9-e5cfb005c3a7"
      },
      "execution_count": null,
      "outputs": [
        {
          "output_type": "execute_result",
          "data": {
            "text/plain": [
              "[40, 50]"
            ]
          },
          "metadata": {},
          "execution_count": 46
        }
      ]
    },
    {
      "cell_type": "markdown",
      "source": [
        "### コード 2.44 リストの要素の更新"
      ],
      "metadata": {
        "id": "VnWgAepLMMhP"
      }
    },
    {
      "cell_type": "code",
      "source": [
        "lst[2] = 0"
      ],
      "metadata": {
        "id": "zkag93zLjSi3"
      },
      "execution_count": null,
      "outputs": []
    },
    {
      "cell_type": "code",
      "source": [
        "lst"
      ],
      "metadata": {
        "colab": {
          "base_uri": "https://localhost:8080/"
        },
        "id": "p_SM2RuzejPh",
        "outputId": "d116d299-5f04-42ef-8edd-e1ec1c04f344"
      },
      "execution_count": null,
      "outputs": [
        {
          "output_type": "execute_result",
          "data": {
            "text/plain": [
              "[10, 20, 0, 40, 50]"
            ]
          },
          "metadata": {},
          "execution_count": 48
        }
      ]
    },
    {
      "cell_type": "markdown",
      "source": [
        "### コード 2.45 リストの要素追加"
      ],
      "metadata": {
        "id": "rpsUMw4qMSsA"
      }
    },
    {
      "cell_type": "code",
      "source": [
        "lst.append(60)"
      ],
      "metadata": {
        "id": "zYp34PUbjXu1"
      },
      "execution_count": null,
      "outputs": []
    },
    {
      "cell_type": "code",
      "source": [
        "lst"
      ],
      "metadata": {
        "colab": {
          "base_uri": "https://localhost:8080/"
        },
        "id": "2etqFW5reks2",
        "outputId": "8381f4e6-47b3-4327-ce0b-9368da1a30a6"
      },
      "execution_count": null,
      "outputs": [
        {
          "output_type": "execute_result",
          "data": {
            "text/plain": [
              "[10, 20, 0, 40, 50, 60]"
            ]
          },
          "metadata": {},
          "execution_count": 50
        }
      ]
    },
    {
      "cell_type": "markdown",
      "source": [
        "### コード 2.46 リストの要素の数え上げ"
      ],
      "metadata": {
        "id": "FuUHYSllMZyp"
      }
    },
    {
      "cell_type": "code",
      "source": [
        "numbers = [1, 3, 0, 6, 1, 4, 1, 8, 3, 3]\n",
        "numbers.count(1)"
      ],
      "metadata": {
        "colab": {
          "base_uri": "https://localhost:8080/"
        },
        "id": "D84mjaSqfW8V",
        "outputId": "884a13c6-f399-49c4-f9b8-6c666e693a32"
      },
      "execution_count": null,
      "outputs": [
        {
          "output_type": "execute_result",
          "data": {
            "text/plain": [
              "3"
            ]
          },
          "metadata": {},
          "execution_count": 51
        }
      ]
    },
    {
      "cell_type": "markdown",
      "source": [
        "### コード 2.47 リストのリスト"
      ],
      "metadata": {
        "id": "W8u-pOOMMmPJ"
      }
    },
    {
      "cell_type": "code",
      "source": [
        "lsts = [[1, 2, 3], [4, 5, 6], [7, 8, 9]]"
      ],
      "metadata": {
        "id": "kumveG1njbVE"
      },
      "execution_count": null,
      "outputs": []
    },
    {
      "cell_type": "markdown",
      "source": [
        "### コード 2.48 リストのリストの要素取得"
      ],
      "metadata": {
        "id": "31VfyECFM1Jl"
      }
    },
    {
      "cell_type": "code",
      "source": [
        "lsts[0]"
      ],
      "metadata": {
        "colab": {
          "base_uri": "https://localhost:8080/"
        },
        "id": "JH8xf5scjdbj",
        "outputId": "14588078-1c54-4c3f-a7ab-ab6cb15d330f"
      },
      "execution_count": null,
      "outputs": [
        {
          "output_type": "execute_result",
          "data": {
            "text/plain": [
              "[1, 2, 3]"
            ]
          },
          "metadata": {},
          "execution_count": 53
        }
      ]
    },
    {
      "cell_type": "markdown",
      "source": [
        "### コード 2.49 リストのリストの要素取得"
      ],
      "metadata": {
        "id": "bn8QVe7eNzkU"
      }
    },
    {
      "cell_type": "code",
      "source": [
        "lsts[0][1]"
      ],
      "metadata": {
        "colab": {
          "base_uri": "https://localhost:8080/"
        },
        "id": "zzWc1IkFjfWD",
        "outputId": "d4f3c403-9547-4bba-94c6-9b5cd2b1fb02"
      },
      "execution_count": null,
      "outputs": [
        {
          "output_type": "execute_result",
          "data": {
            "text/plain": [
              "2"
            ]
          },
          "metadata": {},
          "execution_count": 54
        }
      ]
    },
    {
      "cell_type": "markdown",
      "source": [
        "### コード 2.50 タプルの作成"
      ],
      "metadata": {
        "id": "0IjGTecJPdmQ"
      }
    },
    {
      "cell_type": "code",
      "source": [
        "tpl = (0, 1, 2, 3, 4, 5, 6, 7, 8, 9)"
      ],
      "metadata": {
        "id": "E8SEb6yZjg7S"
      },
      "execution_count": null,
      "outputs": []
    },
    {
      "cell_type": "markdown",
      "source": [
        "### コード 2.51 空タプルの作成"
      ],
      "metadata": {
        "id": "iuhrDGW4PhwM"
      }
    },
    {
      "cell_type": "code",
      "source": [
        "empty_tpl = ()"
      ],
      "metadata": {
        "id": "DHiWRi2Hji5B"
      },
      "execution_count": null,
      "outputs": []
    },
    {
      "cell_type": "markdown",
      "source": [
        "### コード 2.52 要素が1つのタプルの作成"
      ],
      "metadata": {
        "id": "ORo1y1csPn4w"
      }
    },
    {
      "cell_type": "code",
      "source": [
        "sol = (1,)"
      ],
      "metadata": {
        "id": "EXHs0rzhjk9x"
      },
      "execution_count": null,
      "outputs": []
    },
    {
      "cell_type": "markdown",
      "source": [
        "### コード 2.53 インデックスによるタプルの要素取得"
      ],
      "metadata": {
        "id": "WWdJZdv4PsjK"
      }
    },
    {
      "cell_type": "code",
      "source": [
        "tpl[1]"
      ],
      "metadata": {
        "colab": {
          "base_uri": "https://localhost:8080/"
        },
        "id": "eeNbVWbCjnVw",
        "outputId": "7a26d881-ea2b-40ab-a772-c205bc842243"
      },
      "execution_count": null,
      "outputs": [
        {
          "output_type": "execute_result",
          "data": {
            "text/plain": [
              "1"
            ]
          },
          "metadata": {},
          "execution_count": 58
        }
      ]
    },
    {
      "cell_type": "markdown",
      "source": [
        "### コード 2.54 スライスによるタプルの要素取得"
      ],
      "metadata": {
        "id": "4CIrJpsoQatV"
      }
    },
    {
      "cell_type": "code",
      "source": [
        "tpl[2:3]"
      ],
      "metadata": {
        "colab": {
          "base_uri": "https://localhost:8080/"
        },
        "id": "0IKFZDyujox_",
        "outputId": "dcd61c8e-1a27-4e0c-ceab-7ef6689e1a92"
      },
      "execution_count": null,
      "outputs": [
        {
          "output_type": "execute_result",
          "data": {
            "text/plain": [
              "(2,)"
            ]
          },
          "metadata": {},
          "execution_count": 59
        }
      ]
    },
    {
      "cell_type": "markdown",
      "source": [
        "## 2.7 文字列"
      ],
      "metadata": {
        "id": "4NjJC4gPQhkn"
      }
    },
    {
      "cell_type": "markdown",
      "source": [
        "### コード 2.55 文字列の作成"
      ],
      "metadata": {
        "id": "0XaJQrQ-Qle4"
      }
    },
    {
      "cell_type": "code",
      "source": [
        "word = 'Programming'"
      ],
      "metadata": {
        "id": "V96DlQvPjqgp"
      },
      "execution_count": null,
      "outputs": []
    },
    {
      "cell_type": "markdown",
      "source": [
        "### コード 2.56 インデックスによる文字の取得"
      ],
      "metadata": {
        "id": "XMbveBwsQsRk"
      }
    },
    {
      "cell_type": "code",
      "source": [
        "word[0]"
      ],
      "metadata": {
        "colab": {
          "base_uri": "https://localhost:8080/",
          "height": 35
        },
        "id": "aDbnp_Ydjs2-",
        "outputId": "cb1bd5e1-a53b-4658-b511-2013048b27e5"
      },
      "execution_count": null,
      "outputs": [
        {
          "output_type": "execute_result",
          "data": {
            "text/plain": [
              "'P'"
            ],
            "application/vnd.google.colaboratory.intrinsic+json": {
              "type": "string"
            }
          },
          "metadata": {},
          "execution_count": 61
        }
      ]
    },
    {
      "cell_type": "markdown",
      "source": [
        "### コード 2.57 スライスによる部分文字列の取得"
      ],
      "metadata": {
        "id": "YDczLOaNQ0XZ"
      }
    },
    {
      "cell_type": "code",
      "source": [
        "word[0:7]"
      ],
      "metadata": {
        "colab": {
          "base_uri": "https://localhost:8080/",
          "height": 35
        },
        "id": "5yM171P-jufv",
        "outputId": "0c5299bb-8a0f-4c8e-f434-37310dddb979"
      },
      "execution_count": null,
      "outputs": [
        {
          "output_type": "execute_result",
          "data": {
            "text/plain": [
              "'Program'"
            ],
            "application/vnd.google.colaboratory.intrinsic+json": {
              "type": "string"
            }
          },
          "metadata": {},
          "execution_count": 62
        }
      ]
    },
    {
      "cell_type": "markdown",
      "source": [
        "### コード 2.58 空文字列"
      ],
      "metadata": {
        "id": "b-UsuMgYQ6mZ"
      }
    },
    {
      "cell_type": "code",
      "source": [
        "blank = ''"
      ],
      "metadata": {
        "id": "zaWFH6PZjwg-"
      },
      "execution_count": null,
      "outputs": []
    },
    {
      "cell_type": "markdown",
      "source": [
        "### コード 2.59 文字列の長さ"
      ],
      "metadata": {
        "id": "MbCth3rwRnUR"
      }
    },
    {
      "cell_type": "code",
      "source": [
        "len(word)"
      ],
      "metadata": {
        "colab": {
          "base_uri": "https://localhost:8080/"
        },
        "id": "UM8DGRQnjyag",
        "outputId": "d364c714-a73d-4b50-8476-99c993a56bf7"
      },
      "execution_count": null,
      "outputs": [
        {
          "output_type": "execute_result",
          "data": {
            "text/plain": [
              "11"
            ]
          },
          "metadata": {},
          "execution_count": 64
        }
      ]
    },
    {
      "cell_type": "markdown",
      "source": [
        "### コード 2.60 文字列の連結"
      ],
      "metadata": {
        "id": "eA_Ctp5NRrze"
      }
    },
    {
      "cell_type": "code",
      "source": [
        "word = 'データ' + '解析'"
      ],
      "metadata": {
        "id": "U_txcS80j0s0"
      },
      "execution_count": null,
      "outputs": []
    },
    {
      "cell_type": "code",
      "source": [
        "word"
      ],
      "metadata": {
        "colab": {
          "base_uri": "https://localhost:8080/",
          "height": 35
        },
        "id": "6ODpO-W1RnsC",
        "outputId": "148047a1-713b-4171-e278-4ea256cdc7d0"
      },
      "execution_count": null,
      "outputs": [
        {
          "output_type": "execute_result",
          "data": {
            "text/plain": [
              "'データ解析'"
            ],
            "application/vnd.google.colaboratory.intrinsic+json": {
              "type": "string"
            }
          },
          "metadata": {},
          "execution_count": 66
        }
      ]
    },
    {
      "cell_type": "markdown",
      "source": [
        "### コード 2.61 等号による文字列の比較"
      ],
      "metadata": {
        "id": "gKMKohydRx3l"
      }
    },
    {
      "cell_type": "code",
      "source": [
        "'apple' == 'Apple'"
      ],
      "metadata": {
        "colab": {
          "base_uri": "https://localhost:8080/"
        },
        "id": "OWmBextwj21r",
        "outputId": "fa0ed42d-c8db-4d8c-bdcc-1fd6f4b547e0"
      },
      "execution_count": null,
      "outputs": [
        {
          "output_type": "execute_result",
          "data": {
            "text/plain": [
              "False"
            ]
          },
          "metadata": {},
          "execution_count": 67
        }
      ]
    },
    {
      "cell_type": "markdown",
      "source": [
        "### コード 2.62 不等号による文字列の比較"
      ],
      "metadata": {
        "id": "icdaj3YRR3jn"
      }
    },
    {
      "cell_type": "code",
      "source": [
        "'apple' < 'banana'"
      ],
      "metadata": {
        "colab": {
          "base_uri": "https://localhost:8080/"
        },
        "id": "f9Ojz1d7j412",
        "outputId": "0dc181bd-fc02-4dfd-99d5-4a02efd0613c"
      },
      "execution_count": null,
      "outputs": [
        {
          "output_type": "execute_result",
          "data": {
            "text/plain": [
              "True"
            ]
          },
          "metadata": {},
          "execution_count": 68
        }
      ]
    },
    {
      "cell_type": "markdown",
      "source": [
        "### コード 2.63 文字列の検索"
      ],
      "metadata": {
        "id": "coTnu-T5R919"
      }
    },
    {
      "cell_type": "code",
      "source": [
        "'Program' in 'Programming'"
      ],
      "metadata": {
        "colab": {
          "base_uri": "https://localhost:8080/"
        },
        "id": "fEgESqHhj6rM",
        "outputId": "cef0306a-33a1-4190-c077-693ce18acb7d"
      },
      "execution_count": null,
      "outputs": [
        {
          "output_type": "execute_result",
          "data": {
            "text/plain": [
              "True"
            ]
          },
          "metadata": {},
          "execution_count": 69
        }
      ]
    },
    {
      "cell_type": "markdown",
      "source": [
        "## 2.8 for文と繰り返し"
      ],
      "metadata": {
        "id": "VSlmq4TTSCCD"
      }
    },
    {
      "cell_type": "markdown",
      "source": [
        "### コード 2.64 リストの要素の繰り返し処理"
      ],
      "metadata": {
        "id": "eqmdDND7SXtW"
      }
    },
    {
      "cell_type": "code",
      "source": [
        "lst = [1, 2, 3, 4, 5]\n",
        "s = 0\n",
        "for x in lst:\n",
        "\t\ts = s + x\n",
        "print(s)"
      ],
      "metadata": {
        "colab": {
          "base_uri": "https://localhost:8080/"
        },
        "id": "4IcFMlyOj-sB",
        "outputId": "d314fca4-c4e7-4d83-f0f8-e4770ef14d4b"
      },
      "execution_count": null,
      "outputs": [
        {
          "output_type": "stream",
          "name": "stdout",
          "text": [
            "15\n"
          ]
        }
      ]
    },
    {
      "cell_type": "markdown",
      "source": [
        "### コード 2.65 リストの要素とインデックスの繰り返し処理"
      ],
      "metadata": {
        "id": "gfpYwcCMSc58"
      }
    },
    {
      "cell_type": "code",
      "source": [
        "lst = [1, 2, 3, 4, 5]\n",
        "for i, x in enumerate(lst):\n",
        "\t\tprint(i, x)"
      ],
      "metadata": {
        "colab": {
          "base_uri": "https://localhost:8080/"
        },
        "id": "lxZhRYeIkByh",
        "outputId": "9360d66f-8e6b-4c1d-eb93-d973912d2bbb"
      },
      "execution_count": null,
      "outputs": [
        {
          "output_type": "stream",
          "name": "stdout",
          "text": [
            "0 1\n",
            "1 2\n",
            "2 3\n",
            "3 4\n",
            "4 5\n"
          ]
        }
      ]
    },
    {
      "cell_type": "markdown",
      "source": [
        "### コード 2.66 関数`range`による繰り返し処理"
      ],
      "metadata": {
        "id": "tHbPdmnSSjsb"
      }
    },
    {
      "cell_type": "code",
      "source": [
        "s = 0\n",
        "n = 10\n",
        "for x in range(1, n + 1):\n",
        "\t\ts = s + x\n",
        "print(s)"
      ],
      "metadata": {
        "colab": {
          "base_uri": "https://localhost:8080/"
        },
        "id": "yvbq3UInkGq7",
        "outputId": "315076ef-fb2c-416f-e2f0-f33013682627"
      },
      "execution_count": null,
      "outputs": [
        {
          "output_type": "stream",
          "name": "stdout",
          "text": [
            "55\n"
          ]
        }
      ]
    },
    {
      "cell_type": "markdown",
      "source": [
        "### コード 2.67 関数`range`によるリストの要素の繰り返し処理"
      ],
      "metadata": {
        "id": "ohWWVDdNSq63"
      }
    },
    {
      "cell_type": "code",
      "source": [
        "lst = [1, 2, 3, 4, 5]\n",
        "s = 0\n",
        "for i in range(len(lst)):\n",
        "\t\ts = s + lst[i]\n",
        "print(s)"
      ],
      "metadata": {
        "colab": {
          "base_uri": "https://localhost:8080/"
        },
        "id": "0abxC0NckjCx",
        "outputId": "6f863712-12f2-472d-a173-f4f8010b9b7b"
      },
      "execution_count": null,
      "outputs": [
        {
          "output_type": "stream",
          "name": "stdout",
          "text": [
            "15\n"
          ]
        }
      ]
    },
    {
      "cell_type": "markdown",
      "source": [
        "### コード 2.68 for文の入れ子による二重の繰り返し処理"
      ],
      "metadata": {
        "id": "-TkvsstRSx3N"
      }
    },
    {
      "cell_type": "code",
      "source": [
        "lst = [[1, 2, 3], [4, 5, 6], [7, 8, 9]]\n",
        "s = 0\n",
        "for i in range(len(lst)):\n",
        "\t\tfor j in range(len(lst[i])):\n",
        "\t\t\t\ts = s + lst[i][j]\n",
        "print(s)"
      ],
      "metadata": {
        "colab": {
          "base_uri": "https://localhost:8080/"
        },
        "id": "0eSajw3VkLlQ",
        "outputId": "6bc5375f-bafd-439d-94df-6830df604c56"
      },
      "execution_count": null,
      "outputs": [
        {
          "output_type": "stream",
          "name": "stdout",
          "text": [
            "45\n"
          ]
        }
      ]
    },
    {
      "cell_type": "markdown",
      "source": [
        "## 2.9 辞書"
      ],
      "metadata": {
        "id": "wZ9Lg0EZS7pr"
      }
    },
    {
      "cell_type": "markdown",
      "source": [
        "### コード 2.69 辞書の作成"
      ],
      "metadata": {
        "id": "JPavP0v7S56l"
      }
    },
    {
      "cell_type": "code",
      "source": [
        "dic = {'name' : 'Tom', 'age' : 60, 'country' : 'USA'}"
      ],
      "metadata": {
        "id": "aq73iOlHkduo"
      },
      "execution_count": null,
      "outputs": []
    },
    {
      "cell_type": "markdown",
      "source": [
        "### コード 2.70 空の辞書の作成"
      ],
      "metadata": {
        "id": "VgX_CKQQTAef"
      }
    },
    {
      "cell_type": "code",
      "source": [
        "empty_dic = {}"
      ],
      "metadata": {
        "id": "fy0lFr4tkt8t"
      },
      "execution_count": null,
      "outputs": []
    },
    {
      "cell_type": "markdown",
      "source": [
        "### コード 2.71 辞書のバリューの取得"
      ],
      "metadata": {
        "id": "X8KGCsHyTD10"
      }
    },
    {
      "cell_type": "code",
      "source": [
        "dic['name']"
      ],
      "metadata": {
        "colab": {
          "base_uri": "https://localhost:8080/",
          "height": 35
        },
        "id": "O2BQ0NSRkwH9",
        "outputId": "aaa819c2-f12e-44d7-dd6c-3b38f4748c62"
      },
      "execution_count": null,
      "outputs": [
        {
          "output_type": "execute_result",
          "data": {
            "text/plain": [
              "'Tom'"
            ],
            "application/vnd.google.colaboratory.intrinsic+json": {
              "type": "string"
            }
          },
          "metadata": {},
          "execution_count": 77
        }
      ]
    },
    {
      "cell_type": "markdown",
      "source": [
        "### コード 2.72 辞書のキーの検索"
      ],
      "metadata": {
        "id": "r8LUjnbvTY9A"
      }
    },
    {
      "cell_type": "code",
      "source": [
        "'city' in dic"
      ],
      "metadata": {
        "colab": {
          "base_uri": "https://localhost:8080/"
        },
        "id": "IruRz-fbkxyK",
        "outputId": "73152dc8-2d23-4247-e472-149d33410d1e"
      },
      "execution_count": null,
      "outputs": [
        {
          "output_type": "execute_result",
          "data": {
            "text/plain": [
              "False"
            ]
          },
          "metadata": {},
          "execution_count": 78
        }
      ]
    },
    {
      "cell_type": "markdown",
      "source": [
        "### コード 2.73 辞書のバリューの更新"
      ],
      "metadata": {
        "id": "Y_rHKeK3Tf2r"
      }
    },
    {
      "cell_type": "code",
      "source": [
        "dic['age'] = dic['age'] + 5"
      ],
      "metadata": {
        "id": "QBrOtjpKkzTj"
      },
      "execution_count": null,
      "outputs": []
    },
    {
      "cell_type": "code",
      "source": [
        "dic['age']"
      ],
      "metadata": {
        "colab": {
          "base_uri": "https://localhost:8080/"
        },
        "id": "9l28qRbOXaE8",
        "outputId": "1b0e88a0-7f01-4f1b-bfb7-74a425066484"
      },
      "execution_count": null,
      "outputs": [
        {
          "output_type": "execute_result",
          "data": {
            "text/plain": [
              "65"
            ]
          },
          "metadata": {},
          "execution_count": 80
        }
      ]
    },
    {
      "cell_type": "markdown",
      "source": [
        "### コード 2.74 辞書のキーとバリューの追加"
      ],
      "metadata": {
        "id": "wL1_LHPAToc3"
      }
    },
    {
      "cell_type": "code",
      "source": [
        "dic['city'] = 'NY'"
      ],
      "metadata": {
        "id": "gBSE3UrSk3Yj"
      },
      "execution_count": null,
      "outputs": []
    },
    {
      "cell_type": "code",
      "source": [
        "dic"
      ],
      "metadata": {
        "colab": {
          "base_uri": "https://localhost:8080/"
        },
        "id": "mkXEBqt8TsPw",
        "outputId": "a6d4312d-d96a-4c81-db26-32d26fffd180"
      },
      "execution_count": null,
      "outputs": [
        {
          "output_type": "execute_result",
          "data": {
            "text/plain": [
              "{'name': 'Tom', 'age': 65, 'country': 'USA', 'city': 'NY'}"
            ]
          },
          "metadata": {},
          "execution_count": 82
        }
      ]
    },
    {
      "cell_type": "markdown",
      "source": [
        "### コード 2.75 辞書のキーの繰り返し処理"
      ],
      "metadata": {
        "id": "4jwCH4tMTuUd"
      }
    },
    {
      "cell_type": "code",
      "source": [
        "for k in dic.keys():\n",
        "\t\tprint(k, dic[k])"
      ],
      "metadata": {
        "colab": {
          "base_uri": "https://localhost:8080/"
        },
        "id": "I38qU73vk50p",
        "outputId": "81bbf096-6f3c-4e21-8609-77cf30f48f21"
      },
      "execution_count": null,
      "outputs": [
        {
          "output_type": "stream",
          "name": "stdout",
          "text": [
            "name Tom\n",
            "age 65\n",
            "country USA\n",
            "city NY\n"
          ]
        }
      ]
    },
    {
      "cell_type": "markdown",
      "source": [
        "### コード 2.76 辞書のキーとバリューの繰り返し処理"
      ],
      "metadata": {
        "id": "9Qk2SUZZTysR"
      }
    },
    {
      "cell_type": "code",
      "source": [
        "for k, v in dic.items():\n",
        "\t\tprint(k, v)"
      ],
      "metadata": {
        "colab": {
          "base_uri": "https://localhost:8080/"
        },
        "id": "PZ_QRwCPk8TI",
        "outputId": "bb069e49-6fd2-4a8c-9540-878085b04114"
      },
      "execution_count": null,
      "outputs": [
        {
          "output_type": "stream",
          "name": "stdout",
          "text": [
            "name Tom\n",
            "age 65\n",
            "country USA\n",
            "city NY\n"
          ]
        }
      ]
    },
    {
      "cell_type": "markdown",
      "source": [
        "## 2.10 プログラムの作成"
      ],
      "metadata": {
        "id": "5yMpb_EfT4P4"
      }
    },
    {
      "cell_type": "markdown",
      "source": [
        "### プログラム 2.1 関数`my_mean`"
      ],
      "metadata": {
        "id": "aTAapoOHT-u4"
      }
    },
    {
      "cell_type": "code",
      "source": [
        "def my_mean(L):\n",
        "\t\ts = 0\n",
        "\t\tfor x in L:\n",
        "\t\t\t\ts = s + x\n",
        "\t\treturn s / len(L)"
      ],
      "metadata": {
        "id": "bwioGTMyk-9o"
      },
      "execution_count": null,
      "outputs": []
    },
    {
      "cell_type": "markdown",
      "source": [
        "### プログラム 2.2 関数`my_variance`"
      ],
      "metadata": {
        "id": "YeRFjSmlUJ4U"
      }
    },
    {
      "cell_type": "code",
      "source": [
        "def my_variance(L):\n",
        "\t\ts = 0\n",
        "\t\tmean = my_mean(L)\n",
        "\t\tfor x in L:\n",
        "\t\t\t\ts = s + (x - mean) ** 2\n",
        "\t\treturn s / len(L)"
      ],
      "metadata": {
        "id": "8p-lGtYOlCO4"
      },
      "execution_count": null,
      "outputs": []
    },
    {
      "cell_type": "markdown",
      "source": [
        "### プログラム 2.3 関数`my_max`"
      ],
      "metadata": {
        "id": "rr7_LV1mUO3W"
      }
    },
    {
      "cell_type": "code",
      "source": [
        "def my_max(L):\n",
        "\t\tm = L[0]\n",
        "\t\tfor i in range(1, len(L)):\n",
        "\t\t\t\tif L[i] > m:\n",
        "\t\t\t\t\t\tm = L[i]\n",
        "\t\treturn m"
      ],
      "metadata": {
        "id": "MwxOME4olE-G"
      },
      "execution_count": null,
      "outputs": []
    },
    {
      "cell_type": "markdown",
      "source": [
        "### プログラム 2.4 関数`my_min`"
      ],
      "metadata": {
        "id": "4m0zdNt_UU8V"
      }
    },
    {
      "cell_type": "code",
      "source": [
        "def my_min(L):\n",
        "\t\tm = L[0]\n",
        "\t\tfor i in range(1, len(L)):\n",
        "\t\t\t\tif L[i] < m:\n",
        "\t\t\t\t\t\tm = L[i]\n",
        "\t\treturn m"
      ],
      "metadata": {
        "id": "wAJp93ftlIuf"
      },
      "execution_count": null,
      "outputs": []
    },
    {
      "cell_type": "markdown",
      "source": [
        "### プログラム 2.5 関数`my_describe`"
      ],
      "metadata": {
        "id": "cx0XP8xDUasB"
      }
    },
    {
      "cell_type": "code",
      "source": [
        "def my_describe(L):\n",
        "\t\treturn {\n",
        "\t\t\t\t'mean' : my_mean(L),\n",
        "\t\t\t\t'variance' : my_variance(L),\n",
        "\t\t\t\t'max' : my_max(L),\n",
        "\t\t\t\t'min' : my_min(L)\n",
        "\t\t}"
      ],
      "metadata": {
        "id": "YpmDjfhZlKk_"
      },
      "execution_count": null,
      "outputs": []
    },
    {
      "cell_type": "markdown",
      "source": [
        "### コード 2.77 関数`my_describe`の実行"
      ],
      "metadata": {
        "id": "7Jah0GvlUf4E"
      }
    },
    {
      "cell_type": "code",
      "source": [
        "data = [2, 5, 4, 3, 6, 1, 7, 0, 9, 8]\n",
        "my_describe(data)"
      ],
      "metadata": {
        "colab": {
          "base_uri": "https://localhost:8080/"
        },
        "id": "vnfSprOPlN1E",
        "outputId": "e7099abc-77b2-4525-b079-ac9980f2a715"
      },
      "execution_count": null,
      "outputs": [
        {
          "output_type": "execute_result",
          "data": {
            "text/plain": [
              "{'mean': 4.5, 'variance': 8.25, 'max': 9, 'min': 0}"
            ]
          },
          "metadata": {},
          "execution_count": 90
        }
      ]
    },
    {
      "cell_type": "markdown",
      "source": [
        "### コード 2.78 都道府県の人口データの処理"
      ],
      "metadata": {
        "id": "ZYQS2myRUntP"
      }
    },
    {
      "cell_type": "code",
      "source": [
        "import pandas as pd\n",
        "URL = (\n",
        "    'https://www.nstac.go.jp/sys/files/SSDSE-E-2022v2.csv'\n",
        ")\n",
        "df = pd.read_csv(URL, skiprows=[0, 1, 3],\n",
        "                  encoding='shift_jis')\n",
        "population_data = df['総人口'].tolist()\n",
        "my_describe(population_data)"
      ],
      "metadata": {
        "colab": {
          "base_uri": "https://localhost:8080/"
        },
        "id": "1dNBtSfWazag",
        "outputId": "a0921e31-52c4-47fc-be75-67b73d543529"
      },
      "execution_count": null,
      "outputs": [
        {
          "output_type": "execute_result",
          "data": {
            "text/plain": [
              "{'mean': 2683959.5531914895,\n",
              " 'variance': 7654466967507.226,\n",
              " 'max': 14047594,\n",
              " 'min': 553407}"
            ]
          },
          "metadata": {},
          "execution_count": 91
        }
      ]
    },
    {
      "cell_type": "code",
      "source": [
        "import pandas as pd\n",
        "URL = 'https://www.nstac.go.jp/sys/files/SSDSE-E-2022v2.csv'\n",
        "df = pd.read_csv(URL, skiprows=[0, 1, 3], encoding='shift_jis')\n",
        "population_data = df['総人口'].tolist()\n",
        "my_describe(population_data)"
      ],
      "metadata": {
        "colab": {
          "base_uri": "https://localhost:8080/"
        },
        "id": "2LOSwRThlQPr",
        "outputId": "eb27ecc9-4266-45a9-ecb6-c27935b5ef4d"
      },
      "execution_count": null,
      "outputs": [
        {
          "output_type": "execute_result",
          "data": {
            "text/plain": [
              "{'mean': 2683959.5531914895,\n",
              " 'variance': 7654466967507.226,\n",
              " 'max': 14047594,\n",
              " 'min': 553407}"
            ]
          },
          "metadata": {},
          "execution_count": 92
        }
      ]
    }
  ]
}